{
 "cells": [
  {
   "cell_type": "markdown",
   "id": "e0754501-cf6d-4ae4-a710-ac3f0bdf0eea",
   "metadata": {
    "jp-MarkdownHeadingCollapsed": true
   },
   "source": [
    "# Setup"
   ]
  },
  {
   "cell_type": "code",
   "execution_count": null,
   "id": "a2d35fb6-c8d3-49eb-b059-c5b2e56384be",
   "metadata": {},
   "outputs": [],
   "source": [
    "import warnings\n",
    "warnings.filterwarnings('ignore')"
   ]
  },
  {
   "cell_type": "code",
   "execution_count": null,
   "id": "64c89179-cb51-4ad2-9e45-2bbea9c808d9",
   "metadata": {},
   "outputs": [],
   "source": [
    "from datetime import date\n",
    "from matplotlib import pyplot as plt\n",
    "import numpy as np\n",
    "import pandas as pd"
   ]
  },
  {
   "cell_type": "code",
   "execution_count": null,
   "id": "74f0e3ac-1033-4b88-8bfb-fd0d3d9f0798",
   "metadata": {},
   "outputs": [],
   "source": [
    "from bokeh.core.enums import SizingMode\n",
    "from bokeh.layouts import layout, column, row, gridplot\n",
    "from bokeh.models import ColumnDataSource, HoverTool, Slider, CustomJS, TextInput, Div, RangeSlider, DateRangeSlider, Select, Styles, Range1d, InlineStyleSheet\n",
    "from bokeh.plotting import figure, output_file, save, show"
   ]
  },
  {
   "cell_type": "markdown",
   "id": "ac5f7aed-1a6c-4930-a759-a27fba7b4cfb",
   "metadata": {
    "jp-MarkdownHeadingCollapsed": true
   },
   "source": [
    "# Init"
   ]
  },
  {
   "cell_type": "markdown",
   "id": "a0dea4af-04c3-4178-b98f-0874695917be",
   "metadata": {},
   "source": [
    "## Helpers"
   ]
  },
  {
   "cell_type": "code",
   "execution_count": null,
   "id": "25ca20a9-dc81-411f-a9d9-e1524ba654af",
   "metadata": {},
   "outputs": [],
   "source": [
    "# Index by year and quarter.\n",
    "# Helper function for a couple\n",
    "# of different datasets.\n",
    "def monthToQuarter(qrt):\n",
    "    month = ''\n",
    "    if (qrt == 'Qtr1'):\n",
    "        month = 'Jan'\n",
    "    elif (qrt == 'Qtr2'):\n",
    "        month = 'Apr'\n",
    "    elif (qrt == 'Qtr3'):\n",
    "        month = 'Aug'\n",
    "    elif (qrt == 'Qtr4'):\n",
    "        month = 'Oct'\n",
    "    else:\n",
    "        raise Exception('Cannot convert quarter to month')\n",
    "    return month"
   ]
  },
  {
   "cell_type": "markdown",
   "id": "c3ff103e-4183-41fb-927a-1db2b5742772",
   "metadata": {},
   "source": [
    "## Datasource"
   ]
  },
  {
   "cell_type": "code",
   "execution_count": null,
   "id": "e224740b-e102-4746-8c17-6a07e86ace5f",
   "metadata": {},
   "outputs": [],
   "source": [
    "# Use BLS-issued series ID.\n",
    "CPI_SRC = 'data/CUUR0000AA0.xlsx'\n",
    "UNEMP_SRC = 'data/LNS14000000.xlsx'\n",
    "ECI_SRC = 'data/CIU2020000000000A.xlsx'\n",
    "EMP_SRC = 'data/CES0000000001.xlsx'\n",
    "PROD_SRC = 'data/PRS85006092.xlsx'"
   ]
  },
  {
   "cell_type": "markdown",
   "id": "978edcda-5b2d-499e-ad6c-bb468d6f2035",
   "metadata": {},
   "source": [
    "## Settings"
   ]
  },
  {
   "cell_type": "code",
   "execution_count": null,
   "id": "a1711bf9-8aee-484e-96ab-f87ff9502b8f",
   "metadata": {},
   "outputs": [],
   "source": [
    "LONG_HISTORY_START_YEAR = 1954  # CPI and unemployment data go back to 1954. Base CPI = 1967\n",
    "SHORT_HISTORY_START_YEAR = 2001. # Other data only go back to 2001.\n",
    "END_YEAR = 2024\n",
    "MEDIUM_TERM = '2001-01-01'  # Dotcom bust. Many charts begin here; leave as-is.\n",
    "SHORT_TERM = '2008-01-01'  # Great recession.\n",
    "SHORTER_TERM = '2020-01-01'  # Pandemic."
   ]
  },
  {
   "cell_type": "markdown",
   "id": "3bbbe03d-0c28-4bd2-b711-f375c8ee4a55",
   "metadata": {
    "jp-MarkdownHeadingCollapsed": true
   },
   "source": [
    "# Datasets"
   ]
  },
  {
   "cell_type": "markdown",
   "id": "75ee92e9-4983-4533-ae33-f98f4ca5876f",
   "metadata": {
    "jp-MarkdownHeadingCollapsed": true
   },
   "source": [
    "## CPI"
   ]
  },
  {
   "cell_type": "markdown",
   "id": "9d2423fc-5e69-48b1-98bd-944bcb9afe3d",
   "metadata": {
    "jp-MarkdownHeadingCollapsed": true
   },
   "source": [
    "### Dataset"
   ]
  },
  {
   "cell_type": "code",
   "execution_count": null,
   "id": "009c00c6-1c37-4637-a802-d09750acaffd",
   "metadata": {},
   "outputs": [],
   "source": [
    "# Load datasource.\n",
    "df_cpi_orig = pd.read_excel(CPI_SRC, skiprows=list(range(11)))\n",
    "df_cpi_orig.drop(['HALF1', 'HALF2'], inplace=True, axis=1)\n",
    "\n",
    "# CPI with 1967 dollars\n",
    "df_cpi_orig = df_cpi_orig[df_cpi_orig['Year'] >= LONG_HISTORY_START_YEAR]\n",
    "\n",
    "# Index by date.\n",
    "df_cpi_melted = df_cpi_orig.melt(id_vars='Year', var_name='Month', value_name='Value')\n",
    "df_cpi_melted['Date'] = df_cpi_melted['Year'].astype(str) + '-' + df_cpi_melted['Month']\n",
    "df_cpi_melted['Date'] = pd.to_datetime(df_cpi_melted['Date'], format='%Y-%b')\n",
    "df_cpi = df_cpi_melted.set_index('Date')\n",
    "df_cpi = df_cpi.sort_index()"
   ]
  },
  {
   "cell_type": "markdown",
   "id": "83e8a799-bef8-4ffa-977f-dc028818142a",
   "metadata": {
    "jp-MarkdownHeadingCollapsed": true
   },
   "source": [
    "### Matplotlib"
   ]
  },
  {
   "cell_type": "code",
   "execution_count": null,
   "id": "e37fd664-606a-4970-b44d-acd80a7f6bcf",
   "metadata": {},
   "outputs": [],
   "source": [
    "plt.yscale('log')\n",
    "plt.plot(df_cpi.index, df_cpi['Value'])"
   ]
  },
  {
   "cell_type": "code",
   "execution_count": null,
   "id": "cc2ed53a-5f38-45f4-a7bb-4e3539eee1af",
   "metadata": {},
   "outputs": [],
   "source": [
    "plt.yscale('log')\n",
    "plt.plot(df_cpi[df_cpi.index >= MEDIUM_TERM].index, df_cpi[df_cpi.index >= MEDIUM_TERM]['Value']) # Other charts start at 2001."
   ]
  },
  {
   "cell_type": "markdown",
   "id": "687ec0f9-e3b3-4041-b3bf-61756128e1aa",
   "metadata": {
    "jp-MarkdownHeadingCollapsed": true
   },
   "source": [
    "### Bokeh (CPI Level)"
   ]
  },
  {
   "cell_type": "code",
   "execution_count": null,
   "id": "2c3faf0c-3805-4178-abc4-adf1050cf09e",
   "metadata": {},
   "outputs": [],
   "source": [
    "# Plot setup.\n",
    "cpi_plot = figure(\n",
    "    height=400,\n",
    "    width=800,\n",
    "    title=\"CPI\",\n",
    "    x_axis_label='Date',\n",
    "    y_axis_label='1967 dollars (%)',\n",
    "    x_axis_type=\"datetime\",\n",
    "    y_axis_type=\"log\",\n",
    "    tools=\"\",\n",
    ")\n",
    "\n",
    "# Date range widget.\n",
    "cpi_date_range_slider = DateRangeSlider(\n",
    "    title=\"Period\",\n",
    "    value=(date(LONG_HISTORY_START_YEAR, 1, 1), date(END_YEAR, 1, 1)), # Hard code for now.\n",
    "    start=date(LONG_HISTORY_START_YEAR, 1, 1),\n",
    "    end=date(END_YEAR, 1, 1),\n",
    "    step=365,\n",
    ")\n",
    "\n",
    "# Bind slider to plot for auto updating.\n",
    "cpi_date_range_slider.js_link('value', cpi_plot.x_range, 'start', attr_selector=0)\n",
    "cpi_date_range_slider.js_link('value', cpi_plot.x_range, 'end', attr_selector=1)\n",
    "\n",
    "# Data source.\n",
    "cpi_source = ColumnDataSource(data={'x': df_cpi.index, 'y': df_cpi['Value'], 'smoothed_y': df_cpi['Value']})\n",
    "\n",
    "# Line plot.\n",
    "cpi_line = cpi_plot.line('x', 'y', source=cpi_source, line_width=1, line_alpha=0.6, legend_label='Actual')\n",
    "\n",
    "# Smoothed line plot.\n",
    "cpi_smoothed_line = cpi_plot.line('x', 'smoothed_y', source=cpi_source, line_width=2, color='red', legend_label='Smooth')\n",
    "\n",
    "# Resize viewport widget.\n",
    "cpi_view_size_select = Select(title=\"Sizing mode\", value=\"fixed\", options=list(SizingMode), width=300)\n",
    "cpi_view_size_select.js_link('value', cpi_plot, 'sizing_mode')\n",
    "\n",
    "# Resize window widget.\n",
    "cpi_window_callback = CustomJS(args=dict(source=cpi_source, smoothed_line=cpi_smoothed_line), code=\"\"\"\n",
    "    var data = source.data;\n",
    "    var y = data['y'];\n",
    "    var smoothed_y = data['smoothed_y'];\n",
    "    var window_size = cb_obj.value;\n",
    "    var N = y.length;\n",
    "    \n",
    "    // Simple moving average for smoothing\n",
    "    for (var i = 0; i < N; i++) {\n",
    "        var sum = 0.0;\n",
    "        var count = 0;\n",
    "        for (var j = Math.max(0, i - Math.floor(window_size / 2)); j < Math.min(N, i + Math.ceil(window_size / 2)); j++) {\n",
    "            sum += y[j];\n",
    "            count += 1;\n",
    "        }\n",
    "        smoothed_y[i] = sum / count;\n",
    "    }\n",
    "    \n",
    "    // Update the plot\n",
    "    smoothed_line.glyph.change.emit();\n",
    "\"\"\")\n",
    "cpi_window_size_slider = Slider(start=3, end=100, value=5, step=2, title=\"Average\")\n",
    "cpi_window_size_slider.js_on_change('value', cpi_window_callback)\n",
    "\n",
    "# Line thickness widget.\n",
    "cpi_thickness_slider_line = Slider(title=\"slide input\", value=1.0, start=0.1, end=5.0, step=0.1)\n",
    "cpi_thickness_slider_line_callback = CustomJS(args=dict(line=cpi_line, slider=cpi_thickness_slider_line), code=\"\"\"\n",
    "    line.glyph.line_width = slider.value;\n",
    "\"\"\")\n",
    "cpi_thickness_slider_line.js_on_change('value', cpi_thickness_slider_line_callback)\n",
    "\n",
    "# Smoothed line thickness widget.\n",
    "cpi_thickness_slider_smoothed = Slider(title=\"slide input\", value=1.0, start=0.1, end=5.0, step=0.1)\n",
    "cpi_thickness_slider_smoothed_callback = CustomJS(args=dict(line=cpi_smoothed_line, slider=cpi_thickness_slider_smoothed), code=\"\"\"\n",
    "    line.glyph.line_width = slider.value;\n",
    "\"\"\")\n",
    "cpi_thickness_slider_smoothed.js_on_change('value', cpi_thickness_slider_smoothed_callback)\n",
    "\n",
    "# Build layout.\n",
    "cpi_layout = column(\n",
    "    cpi_window_size_slider,\n",
    "    cpi_date_range_slider,\n",
    "    cpi_view_size_select,\n",
    "    cpi_thickness_slider_line,\n",
    "    cpi_thickness_slider_smoothed,\n",
    "    cpi_plot\n",
    ")\n",
    "# cpi_layout.sizing_mode = \"stretch_both\"\n",
    "\n",
    "# Save layout.\n",
    "# output_file(\"cpi.html\")\n",
    "# save(cpi_layout)"
   ]
  },
  {
   "cell_type": "markdown",
   "id": "80a18146-4b1a-484e-81c8-43781b444d78",
   "metadata": {},
   "source": [
    "<hr>"
   ]
  },
  {
   "cell_type": "markdown",
   "id": "c154764b-1601-4cf3-af08-86a556042e4e",
   "metadata": {
    "jp-MarkdownHeadingCollapsed": true
   },
   "source": [
    "### Inflation Rate Dataset"
   ]
  },
  {
   "cell_type": "code",
   "execution_count": null,
   "id": "b702f12f-a11d-4c79-a01a-2b0a63200bc4",
   "metadata": {},
   "outputs": [],
   "source": [
    "# Copy df_cpi, add rate column.\n",
    "df_cpi_rate = df_cpi.copy()\n",
    "df_cpi_rate['Rate'] = ((df_cpi_rate['Value'] - df_cpi_rate['Value'].shift(1)) / df_cpi_rate['Value'].shift(1)) * 100\n",
    "df_cpi_rate.loc['1954-01-01', 'Rate'] = df_cpi_rate.loc['1954-02-01', 'Rate']  # Backfill first month"
   ]
  },
  {
   "cell_type": "markdown",
   "id": "167d9fa5-9814-43a9-bf64-e7bbc5166d24",
   "metadata": {
    "jp-MarkdownHeadingCollapsed": true
   },
   "source": [
    "### Bokeh (Inflation Rate)"
   ]
  },
  {
   "cell_type": "code",
   "execution_count": null,
   "id": "7fb7c3d7-ad68-4bf4-87f8-d81f49667a7c",
   "metadata": {},
   "outputs": [],
   "source": [
    "# Plot setup.\n",
    "cpi_rate_plot = figure(\n",
    "    height=400,\n",
    "    width=800,\n",
    "    title=\"CPI Rate\",\n",
    "    x_axis_label='Date',\n",
    "    y_axis_label='Rate',\n",
    "    x_axis_type=\"datetime\",\n",
    "    y_axis_type=\"linear\",\n",
    "    tools=\"\",\n",
    ")\n",
    "\n",
    "# Date range widget.\n",
    "cpi_rate_date_range_slider = DateRangeSlider(\n",
    "    title=\"Period\",\n",
    "    value=(date(LONG_HISTORY_START_YEAR, 1, 1), date(END_YEAR, 1, 1)), # Hard code for now.\n",
    "    start=date(LONG_HISTORY_START_YEAR, 1, 1),\n",
    "    end=date(END_YEAR, 1, 1),\n",
    "    step=365,\n",
    ")\n",
    "\n",
    "# Bind slider to plot for auto updating.\n",
    "cpi_rate_date_range_slider.js_link('value', cpi_rate_plot.x_range, 'start', attr_selector=0)\n",
    "cpi_rate_date_range_slider.js_link('value', cpi_rate_plot.x_range, 'end', attr_selector=1)\n",
    "\n",
    "# Data source.\n",
    "cpi_rate_source = ColumnDataSource(data={'x': df_cpi_rate.index, 'y': df_cpi_rate['Rate'], 'smoothed_y': df_cpi_rate['Rate']})\n",
    "\n",
    "# Line plot.\n",
    "cpi_rate_line = cpi_rate_plot.line('x', 'y', source=cpi_rate_source, line_width=1, line_alpha=0.2, legend_label='Actual')\n",
    "\n",
    "# Smoothed line plot.\n",
    "cpi_rate_smoothed_line = cpi_rate_plot.line('x', 'smoothed_y', source=cpi_rate_source, line_width=1.5, color='red', legend_label='Smooth')\n",
    "\n",
    "# Resize viewport widget.\n",
    "cpi_rate_view_size_select = Select(title=\"Sizing mode\", value=\"fixed\", options=list(SizingMode), width=300)\n",
    "cpi_rate_view_size_select.js_link('value', cpi_rate_plot, 'sizing_mode')\n",
    "\n",
    "# Resize window widget.\n",
    "cpi_rate_window_callback = CustomJS(args=dict(source=cpi_rate_source, smoothed_line=cpi_rate_smoothed_line), code=\"\"\"\n",
    "    var data = source.data;\n",
    "    var y = data['y'];\n",
    "    var smoothed_y = data['smoothed_y'];\n",
    "    var window_size = cb_obj.value;\n",
    "    var N = y.length;\n",
    "    \n",
    "    // Simple moving average for smoothing\n",
    "    for (var i = 0; i < N; i++) {\n",
    "        var sum = 0.0;\n",
    "        var count = 0;\n",
    "        for (var j = Math.max(0, i - Math.floor(window_size / 2)); j < Math.min(N, i + Math.ceil(window_size / 2)); j++) {\n",
    "            sum += y[j];\n",
    "            count += 1;\n",
    "        }\n",
    "        smoothed_y[i] = sum / count;\n",
    "    }\n",
    "    \n",
    "    // Update the plot\n",
    "    smoothed_line.glyph.change.emit();\n",
    "\"\"\")\n",
    "cpi_rate_window_size_slider = Slider(start=1, end=100, value=1, step=1, title=\"Average\")\n",
    "cpi_rate_window_size_slider.js_on_change('value', cpi_rate_window_callback)\n",
    "\n",
    "# Line thickness widget.\n",
    "cpi_rate_thickness_slider_line = Slider(title=\"slide input\", value=1.0, start=0.1, end=5.0, step=0.1)\n",
    "cpi_rate_thickness_slider_line_callback = CustomJS(args=dict(line=cpi_rate_line, slider=cpi_rate_thickness_slider_line), code=\"\"\"\n",
    "    line.glyph.line_width = slider.value;\n",
    "\"\"\")\n",
    "cpi_rate_thickness_slider_line.js_on_change('value', cpi_rate_thickness_slider_line_callback)\n",
    "\n",
    "# Smoothed line thickness widget.\n",
    "cpi_rate_thickness_slider_smoothed = Slider(title=\"slide input\", value=1.0, start=0.1, end=5.0, step=0.1)\n",
    "cpi_rate_thickness_slider_smoothed_callback = CustomJS(args=dict(line=cpi_rate_smoothed_line, slider=cpi_rate_thickness_slider_smoothed), code=\"\"\"\n",
    "    line.glyph.line_width = slider.value;\n",
    "\"\"\")\n",
    "cpi_rate_thickness_slider_smoothed.js_on_change('value', cpi_rate_thickness_slider_smoothed_callback)\n",
    "\n",
    "# Build layout.\n",
    "cpi_rate_layout = column(\n",
    "    cpi_rate_window_size_slider,\n",
    "    cpi_rate_date_range_slider,\n",
    "    cpi_rate_view_size_select,\n",
    "    cpi_rate_thickness_slider_line,\n",
    "    cpi_rate_thickness_slider_smoothed,\n",
    "    cpi_rate_plot\n",
    ")\n",
    "# cpi_rate_layout.sizing_mode = \"stretch_both\"\n",
    "\n",
    "# Save layout.\n",
    "# output_file(\"cpi_rate.html\")\n",
    "# save(cpi_rate_layout)"
   ]
  },
  {
   "cell_type": "markdown",
   "id": "666d883d-7644-40d7-82e9-b1ffb372110c",
   "metadata": {
    "jp-MarkdownHeadingCollapsed": true
   },
   "source": [
    "## Unemployment"
   ]
  },
  {
   "cell_type": "code",
   "execution_count": null,
   "id": "8798bad1-6ff1-4f62-9435-9dbee5f61926",
   "metadata": {},
   "outputs": [],
   "source": [
    "# Load datasource.\n",
    "df_unemp_orig = pd.read_excel(UNEMP_SRC, skiprows=list(range(11)))\n",
    "\n",
    "# Start at CPI with 1967 dollars.\n",
    "df_unemp_orig = df_unemp_orig[df_unemp_orig['Year'] >= LONG_HISTORY_START_YEAR]\n",
    "\n",
    "# Index by date.\n",
    "df_unemp_melted = df_unemp_orig.melt(id_vars='Year', var_name='Month', value_name='Value')\n",
    "df_unemp_melted['Date'] = df_unemp_melted['Year'].astype(str) + '-' + df_unemp_melted['Month']\n",
    "df_unemp_melted['Date'] = pd.to_datetime(df_unemp_melted['Date'], format='%Y-%b')\n",
    "df_unemp = df_unemp_melted.set_index('Date')\n",
    "df_unemp = df_unemp.sort_index()"
   ]
  },
  {
   "cell_type": "markdown",
   "id": "7f06bb02-b94b-425d-b085-7547c02270f6",
   "metadata": {
    "jp-MarkdownHeadingCollapsed": true
   },
   "source": [
    "### Plot"
   ]
  },
  {
   "cell_type": "code",
   "execution_count": null,
   "id": "fc308154-d254-4be3-a290-39180827f58f",
   "metadata": {},
   "outputs": [],
   "source": [
    "plt.yscale('linear')\n",
    "plt.plot(df_unemp.index, df_unemp['Value'])"
   ]
  },
  {
   "cell_type": "code",
   "execution_count": null,
   "id": "37be7451-092a-4136-85fe-907aa24e2524",
   "metadata": {},
   "outputs": [],
   "source": [
    "plt.yscale('linear')\n",
    "plt.plot(df_unemp[df_unemp.index >= MEDIUM_TERM].index, df_unemp[df_unemp.index >= MEDIUM_TERM]['Value']) # Other charts start at 2001."
   ]
  },
  {
   "cell_type": "markdown",
   "id": "fd6eaf3d-96ca-476d-b4a2-9a90144d7ecb",
   "metadata": {
    "jp-MarkdownHeadingCollapsed": true
   },
   "source": [
    "### Unemployment (Bokeh)"
   ]
  },
  {
   "cell_type": "code",
   "execution_count": null,
   "id": "5e3a8921-c201-4bbe-80a0-518b6cf5f29d",
   "metadata": {},
   "outputs": [],
   "source": [
    "# Plot setup.\n",
    "unemp_plot = figure(\n",
    "    height=400,\n",
    "    width=800,\n",
    "    title=\"Unemployment\",\n",
    "    x_axis_label='Date',\n",
    "    y_axis_label='Rate',\n",
    "    x_axis_type=\"datetime\",\n",
    "    tools=\"\",\n",
    ")\n",
    "\n",
    "# Date range widget.\n",
    "unemp_date_range_slider = DateRangeSlider(\n",
    "    title=\"Period\",\n",
    "    value=(date(LONG_HISTORY_START_YEAR, 1, 1), date(END_YEAR, 1, 1)), # Hard code for now.\n",
    "    start=date(LONG_HISTORY_START_YEAR, 1, 1),\n",
    "    end=date(END_YEAR, 1, 1),\n",
    "    step=365,\n",
    ")\n",
    "\n",
    "# Bind slider to plot for auto updating.\n",
    "unemp_date_range_slider.js_link('value', unemp_plot.x_range, 'start', attr_selector=0)\n",
    "unemp_date_range_slider.js_link('value', unemp_plot.x_range, 'end', attr_selector=1)\n",
    "\n",
    "# Data source.\n",
    "unemp_source = ColumnDataSource(data={'x': df_unemp.index, 'y': df_unemp['Value'], 'smoothed_y': df_unemp['Value']})\n",
    "\n",
    "# Line plot.\n",
    "unemp_line = unemp_plot.line('x', 'y', source=unemp_source, line_width=1, line_alpha=0.2, legend_label='Actual')\n",
    "\n",
    "# Smoothed line plot.\n",
    "unemp_smoothed_line = unemp_plot.line('x', 'smoothed_y', source=unemp_source, line_width=1.5, color='red', legend_label='Smooth')\n",
    "\n",
    "# Resize viewport widget.\n",
    "unemp_view_size_select = Select(title=\"Sizing mode\", value=\"fixed\", options=list(SizingMode), width=300)\n",
    "unemp_view_size_select.js_link('value', unemp_plot, 'sizing_mode')\n",
    "\n",
    "# Resize window widget.\n",
    "unemp_window_callback = CustomJS(args=dict(source=unemp_source, smoothed_line=unemp_smoothed_line), code=\"\"\"\n",
    "    var data = source.data;\n",
    "    var y = data['y'];\n",
    "    var smoothed_y = data['smoothed_y'];\n",
    "    var window_size = cb_obj.value;\n",
    "    var N = y.length;\n",
    "    \n",
    "    // Simple moving average for smoothing\n",
    "    for (var i = 0; i < N; i++) {\n",
    "        var sum = 0.0;\n",
    "        var count = 0;\n",
    "        for (var j = Math.max(0, i - Math.floor(window_size / 2)); j < Math.min(N, i + Math.ceil(window_size / 2)); j++) {\n",
    "            sum += y[j];\n",
    "            count += 1;\n",
    "        }\n",
    "        smoothed_y[i] = sum / count;\n",
    "    }\n",
    "    \n",
    "    // Update the plot\n",
    "    smoothed_line.glyph.change.emit();\n",
    "\"\"\")\n",
    "unemp_window_size_slider = Slider(start=1, end=100, value=1, step=10, title=\"Average\")\n",
    "unemp_window_size_slider.js_on_change('value', unemp_window_callback)\n",
    "\n",
    "# Build layout.\n",
    "unemp_layout = column(\n",
    "    unemp_window_size_slider,\n",
    "    unemp_date_range_slider,\n",
    "    unemp_view_size_select,\n",
    "    unemp_plot\n",
    ")\n",
    "# unemp_layout.sizing_mode = \"stretch_both\"\n",
    "\n",
    "# Save layout.\n",
    "# output_file(\"unemployment.html\")\n",
    "# save(unemp_layout)"
   ]
  },
  {
   "cell_type": "markdown",
   "id": "a1db5fe9-9664-4b47-a243-182b5552aa27",
   "metadata": {
    "jp-MarkdownHeadingCollapsed": true
   },
   "source": [
    "### Bokeh"
   ]
  },
  {
   "cell_type": "code",
   "execution_count": null,
   "id": "47b88b0a-4203-4c60-978a-2e6ec4068de5",
   "metadata": {},
   "outputs": [],
   "source": [
    "# Plot setup.\n",
    "unemp_plot = figure(\n",
    "    height=400,\n",
    "    width=800,\n",
    "    title=\"Unemployment\",\n",
    "    x_axis_label='Date',\n",
    "    y_axis_label='Rate',\n",
    "    x_axis_type=\"datetime\",\n",
    "    tools=\"\",\n",
    ")\n",
    "\n",
    "# Date range widget.\n",
    "unemp_date_range_slider = DateRangeSlider(\n",
    "    title=\"Period\",\n",
    "    value=(date(LONG_HISTORY_START_YEAR, 1, 1), date(END_YEAR, 1, 1)), # Hard code for now.\n",
    "    start=date(LONG_HISTORY_START_YEAR, 1, 1),\n",
    "    end=date(END_YEAR, 1, 1),\n",
    "    step=365,\n",
    ")\n",
    "\n",
    "# Bind slider to plot for auto updating.\n",
    "unemp_date_range_slider.js_link('value', unemp_plot.x_range, 'start', attr_selector=0)\n",
    "unemp_date_range_slider.js_link('value', unemp_plot.x_range, 'end', attr_selector=1)\n",
    "\n",
    "# Data source.\n",
    "unemp_source = ColumnDataSource(data={'x': df_unemp.index, 'y': df_unemp['Value'], 'smoothed_y': df_unemp['Value']})\n",
    "\n",
    "# Line plot.\n",
    "unemp_line = unemp_plot.line('x', 'y', source=unemp_source, line_width=1, line_alpha=0.2, legend_label='Actual')\n",
    "\n",
    "# Smoothed line plot.\n",
    "unemp_smoothed_line = unemp_plot.line('x', 'smoothed_y', source=unemp_source, line_width=1.5, color='red', legend_label='Smooth')\n",
    "\n",
    "# Resize viewport widget.\n",
    "unemp_view_size_select = Select(title=\"Sizing mode\", value=\"fixed\", options=list(SizingMode), width=300)\n",
    "unemp_view_size_select.js_link('value', unemp_plot, 'sizing_mode')\n",
    "\n",
    "# Resize window widget.\n",
    "unemp_window_callback = CustomJS(args=dict(source=unemp_source, smoothed_line=unemp_smoothed_line), code=\"\"\"\n",
    "    var data = source.data;\n",
    "    var y = data['y'];\n",
    "    var smoothed_y = data['smoothed_y'];\n",
    "    var window_size = cb_obj.value;\n",
    "    var N = y.length;\n",
    "    \n",
    "    // Simple moving average for smoothing\n",
    "    for (var i = 0; i < N; i++) {\n",
    "        var sum = 0.0;\n",
    "        var count = 0;\n",
    "        for (var j = Math.max(0, i - Math.floor(window_size / 2)); j < Math.min(N, i + Math.ceil(window_size / 2)); j++) {\n",
    "            sum += y[j];\n",
    "            count += 1;\n",
    "        }\n",
    "        smoothed_y[i] = sum / count;\n",
    "    }\n",
    "    \n",
    "    // Update the plot\n",
    "    smoothed_line.glyph.change.emit();\n",
    "\"\"\")\n",
    "unemp_window_size_slider = Slider(start=1, end=100, value=1, step=10, title=\"Average\")\n",
    "unemp_window_size_slider.js_on_change('value', unemp_window_callback)\n",
    "\n",
    "# Build layout.\n",
    "unemp_layout = column(\n",
    "    unemp_window_size_slider,\n",
    "    unemp_date_range_slider,\n",
    "    unemp_view_size_select,\n",
    "    unemp_plot\n",
    ")\n",
    "# unemp_layout.sizing_mode = \"stretch_both\"\n",
    "\n",
    "# Save layout.\n",
    "# output_file(\"unemployment.html\")\n",
    "# save(unemp_layout)"
   ]
  },
  {
   "cell_type": "markdown",
   "id": "1a63e613-e92a-4fe6-b237-64625b6557fd",
   "metadata": {
    "jp-MarkdownHeadingCollapsed": true
   },
   "source": [
    "## Employment Cost Index"
   ]
  },
  {
   "cell_type": "code",
   "execution_count": null,
   "id": "94bc3e3f-aa5f-460d-a075-3631d522f9bc",
   "metadata": {},
   "outputs": [],
   "source": [
    "# Load datasource\n",
    "df_eci_orig = pd.read_excel(ECI_SRC, skiprows=list(range(15)))\n",
    "\n",
    "# Insert month from biz quarter.\n",
    "df_eci_orig['Month'] = df_eci_orig['Period'].apply(monthToQuarter)\n",
    "\n",
    "# Make date index\n",
    "df_eci_orig['Date'] = df_eci_orig.apply(lambda row: f\"{row['Year']}-{row['Month']}\", axis=1)\n",
    "df_eci_orig['Date'] = pd.to_datetime(df_eci_orig['Date'], format='%Y-%b')\n",
    "df_eci = df_eci_orig.set_index('Date')\n",
    "df_eci = df_eci.sort_index()\n",
    "df_eci.drop(['Standard Error', 'Month', 'Period', 'Year'], axis=1, inplace=True)"
   ]
  },
  {
   "cell_type": "markdown",
   "id": "a211f927-d4d7-4a69-91c9-690f1feb4a2d",
   "metadata": {
    "jp-MarkdownHeadingCollapsed": true
   },
   "source": [
    "### Plot"
   ]
  },
  {
   "cell_type": "code",
   "execution_count": null,
   "id": "d4459fd7-baec-4bc8-8e12-53bb5d6bd5ad",
   "metadata": {},
   "outputs": [],
   "source": [
    "plt.yscale('linear')\n",
    "plt.plot(df_eci.index, df_eci['Estimate Value'])"
   ]
  },
  {
   "cell_type": "markdown",
   "id": "1df4425a-4cbe-4f95-ae61-3f25a56f189b",
   "metadata": {
    "jp-MarkdownHeadingCollapsed": true
   },
   "source": [
    "## Employment Hours"
   ]
  },
  {
   "cell_type": "code",
   "execution_count": null,
   "id": "a8fd9ced-44bb-445a-8b7c-d52f85d1be74",
   "metadata": {},
   "outputs": [],
   "source": [
    "# Load dataset.\n",
    "df_emp_orig = pd.read_excel(EMP_SRC, skiprows=list(range(12)))\n",
    "\n",
    "# Start at CPI with 1967 dollars.\n",
    "df_emp_orig = df_emp_orig[df_emp_orig['Year'] >= LONG_HISTORY_START_YEAR]\n",
    "\n",
    "# Index by date.\n",
    "df_emp_melted = df_emp_orig.melt(id_vars='Year', var_name='Month', value_name='Value')\n",
    "df_emp_melted['Date'] = df_emp_melted['Year'].astype(str) + '-' + df_emp_melted['Month']\n",
    "df_emp_melted['Date'] = pd.to_datetime(df_emp_melted['Date'], format='%Y-%b')\n",
    "df_emp = df_emp_melted.set_index('Date')\n",
    "df_emp = df_emp.sort_index()\n",
    "df_emp.drop(['Year', 'Month'], axis=1, inplace=True)"
   ]
  },
  {
   "cell_type": "code",
   "execution_count": null,
   "id": "07299e86-e982-4217-8a1f-08dcde6c8719",
   "metadata": {},
   "outputs": [],
   "source": [
    "plt.yscale('linear')\n",
    "plt.plot(df_emp.index, df_emp['Value'])"
   ]
  },
  {
   "cell_type": "code",
   "execution_count": null,
   "id": "52fdeebe-6f7b-41a7-b89b-0c95cef69ec1",
   "metadata": {},
   "outputs": [],
   "source": [
    "plt.yscale('linear')\n",
    "plt.plot(df_emp[df_emp.index >= MEDIUM_TERM].index, df_emp[df_emp.index >= MEDIUM_TERM]['Value'])"
   ]
  },
  {
   "cell_type": "markdown",
   "id": "0272c18c-b3ec-4b16-bdea-ae6f21ee4ec5",
   "metadata": {
    "jp-MarkdownHeadingCollapsed": true
   },
   "source": [
    "## Productivity"
   ]
  },
  {
   "cell_type": "code",
   "execution_count": null,
   "id": "7e83f0c7-dba7-4888-9401-8c3179671425",
   "metadata": {},
   "outputs": [],
   "source": [
    "# Load dataset.\n",
    "df_prod_orig = pd.read_excel(PROD_SRC, skiprows=list(range(10)))\n",
    "\n",
    "# Start at CPI at 1967 dollars.\n",
    "df_prod_orig = df_prod_orig[df_prod_orig['Year'] >= LONG_HISTORY_START_YEAR]\n",
    "\n",
    "# Index by date.\n",
    "df_prod_melted = df_prod_orig.melt(id_vars='Year', var_name='Quarter', value_name='Value')\n",
    "df_prod_melted['Month'] = df_prod_melted['Quarter'].apply(monthToQuarter)\n",
    "df_prod_melted['Date'] = df_prod_melted['Year'].astype(str) + '-' + df_prod_melted['Month']\n",
    "df_prod_melted['Date'] = pd.to_datetime(df_prod_melted['Date'], format='%Y-%b')\n",
    "df_prod = df_prod_melted.set_index('Date')\n",
    "df_prod = df_prod.sort_index()\n",
    "df_prod.drop(['Year', 'Quarter', 'Month'], axis=1, inplace=True)"
   ]
  },
  {
   "cell_type": "code",
   "execution_count": null,
   "id": "b171a756-87b7-46e7-b540-611f0c089996",
   "metadata": {},
   "outputs": [],
   "source": [
    "plt.yscale('linear')\n",
    "plt.plot(df_prod.index, df_prod['Value'])"
   ]
  },
  {
   "cell_type": "code",
   "execution_count": null,
   "id": "ef13c463-1b46-4dae-b5c3-2872ccdf43ff",
   "metadata": {},
   "outputs": [],
   "source": [
    "plt.yscale('linear')\n",
    "plt.plot(df_prod[df_prod.index >= MEDIUM_TERM].index, df_prod[df_prod.index >= MEDIUM_TERM]['Value'])"
   ]
  },
  {
   "cell_type": "markdown",
   "id": "6f0fd6a2-92ab-464b-be19-87e32131da8c",
   "metadata": {
    "jp-MarkdownHeadingCollapsed": true
   },
   "source": [
    "## Phillips"
   ]
  },
  {
   "cell_type": "code",
   "execution_count": null,
   "id": "52723542-0110-4b72-be69-833d494048e4",
   "metadata": {},
   "outputs": [],
   "source": [
    "# Phillips dataframe.\n",
    "df_phillips = pd.DataFrame()\n",
    "\n",
    "# Combine inflation rate and unemployment rate.\n",
    "df_phillips['inflation_rate'] = df_cpi_rate['Rate'] * 10\n",
    "df_phillips['unemployment_rate'] = df_unemp['Value']\n",
    "\n",
    "# Clean up dataframe.\n",
    "df_phillips.dropna(inplace=True)\n",
    "df_phillips['Date'] = df_phillips.index\n",
    "df_phillips.set_index('unemployment_rate', inplace=True)"
   ]
  },
  {
   "cell_type": "markdown",
   "id": "931e6a84-1e2c-4d38-9618-5dec15509b40",
   "metadata": {
    "jp-MarkdownHeadingCollapsed": true
   },
   "source": [
    "## Philips - 1954-1970"
   ]
  },
  {
   "cell_type": "code",
   "execution_count": null,
   "id": "0dbcbdbc-23a5-45a7-84d2-07df730c13e1",
   "metadata": {},
   "outputs": [],
   "source": [
    "# Limit year.\n",
    "df_phillips_1 = df_phillips[df_phillips['Date'] < '1970-01-01']"
   ]
  },
  {
   "cell_type": "markdown",
   "id": "1a2c651d-552c-494c-a4a3-03b38299f9de",
   "metadata": {
    "jp-MarkdownHeadingCollapsed": true
   },
   "source": [
    "### Matplotlib"
   ]
  },
  {
   "cell_type": "code",
   "execution_count": null,
   "id": "58882998-63c9-4ebc-9fb4-90ddfa34c446",
   "metadata": {},
   "outputs": [],
   "source": [
    "# Plot\n",
    "plt.scatter(df_phillips_1.index, df_phillips_1['inflation_rate'], s=10)\n",
    "plt.xlim(int(min(df_phillips_1.index)), 20)\n",
    "plt.ylim(0, 20) \n",
    "plt.yticks(range(0, 11, 10))\n",
    "plt.yticks(range(0, 11, 10))\n",
    "plt.xlabel('Inflation Rate (%)', fontsize=10, color='black')\n",
    "plt.ylabel('Unemployment Rate (%)', fontsize=10, color='black')\n",
    "plt.show()"
   ]
  },
  {
   "cell_type": "markdown",
   "id": "e5c3b1b7-b5b0-482e-9d51-5bf4776caa8e",
   "metadata": {},
   "source": [
    "### Bokeh"
   ]
  },
  {
   "cell_type": "code",
   "execution_count": null,
   "id": "209d66ba-66a8-40c6-898a-d4335f7d8486",
   "metadata": {},
   "outputs": [],
   "source": [
    "# Plot setup.\n",
    "phillips_plot = figure(\n",
    "    height=400,\n",
    "    width=400,\n",
    "    title=\"Phillips Curve – 1954-1970\",\n",
    "    x_axis_label='Unemployment Rate (%)',\n",
    "    y_axis_label='Inflation Rate (%)',\n",
    "    y_axis_type=\"linear\",\n",
    "    tools=\"\",\n",
    ")\n",
    "\n",
    "# Data source.\n",
    "phillips_source = ColumnDataSource(data={'x': df_phillips_1.index, 'y': df_phillips_1['inflation_rate']})\n",
    "\n",
    "# Make it square.\n",
    "phillips_plot.x_range = Range1d(3.5, 20)\n",
    "phillips_plot.y_range = Range1d(3.5, 20)\n",
    "\n",
    "# Line plot.\n",
    "phillips_line = phillips_plot.circle('x', 'y', source=phillips_source, size=1, legend_label='Actual')\n",
    "\n",
    "# Build layout.\n",
    "phillips_layout_01 = column(\n",
    "    phillips_plot\n",
    ")\n",
    "\n",
    "# Hide legend.\n",
    "phillips_plot.legend.visible=False \n",
    "\n",
    "# # Save layout.\n",
    "# output_file(\"phillips_layout_01.html\")\n",
    "# save(phillips_layout_01)"
   ]
  },
  {
   "cell_type": "markdown",
   "id": "cf7eeb2b-940c-4dd8-99aa-81d68b02faba",
   "metadata": {
    "jp-MarkdownHeadingCollapsed": true
   },
   "source": [
    "## Phillips - 1970-1986"
   ]
  },
  {
   "cell_type": "code",
   "execution_count": null,
   "id": "b2675919-eda9-4251-b843-6faf41ef31c8",
   "metadata": {},
   "outputs": [],
   "source": [
    "# Limit year.\n",
    "df_phillips_2 = df_phillips[(df_phillips['Date'] >= '1970-01-01') & (df_phillips['Date'] < '1986-01-01')]"
   ]
  },
  {
   "cell_type": "markdown",
   "id": "c1903f14-ae85-44b6-9c29-8240eaeb7dfc",
   "metadata": {
    "jp-MarkdownHeadingCollapsed": true
   },
   "source": [
    "### Matplotlib"
   ]
  },
  {
   "cell_type": "code",
   "execution_count": null,
   "id": "66941bb7-247a-4024-a41b-0d40912c6edc",
   "metadata": {},
   "outputs": [],
   "source": [
    "# Plot\n",
    "plt.scatter(df_phillips_2.index, df_phillips_2['inflation_rate'], s=10)\n",
    "plt.xlim(int(min(df_phillips_2.index)), 20)\n",
    "plt.ylim(0, 20) \n",
    "plt.yticks(range(0, 11, 10))\n",
    "plt.yticks(range(0, 11, 10))\n",
    "plt.xlabel('Inflation Rate (%)', fontsize=10, color='black')\n",
    "plt.ylabel('Unemployment Rate (%)', fontsize=10, color='black')\n",
    "plt.show()"
   ]
  },
  {
   "cell_type": "markdown",
   "id": "ddb0712a-a57d-4739-a844-ffa289a35d4a",
   "metadata": {},
   "source": [
    "### Bokeh"
   ]
  },
  {
   "cell_type": "code",
   "execution_count": null,
   "id": "f40e8589-5e14-4437-a170-d6d09879380f",
   "metadata": {},
   "outputs": [],
   "source": [
    "# Plot setup.\n",
    "phillips_plot = figure(\n",
    "    height=400,\n",
    "    width=400,\n",
    "    title=\"Phillips Curve – 1970-1986\",\n",
    "    x_axis_label='Unemployment Rate (%)',\n",
    "    y_axis_label='Inflation Rate (%)',\n",
    "    y_axis_type=\"linear\",\n",
    "    tools=\"\",\n",
    ")\n",
    "\n",
    "# Data source.\n",
    "phillips_source = ColumnDataSource(data={'x': df_phillips_2.index, 'y': df_phillips_2['inflation_rate']})\n",
    "\n",
    "# Make it square.\n",
    "phillips_plot.x_range = Range1d(3.5, 20)\n",
    "phillips_plot.y_range = Range1d(3.5, 20)\n",
    "\n",
    "# Line plot.\n",
    "phillips_line = phillips_plot.circle('x', 'y', source=phillips_source, size=1, legend_label='Actual')\n",
    "\n",
    "# Build layout.\n",
    "phillips_layout_02 = column(\n",
    "    phillips_plot\n",
    ")\n",
    "\n",
    "# Hide legend.\n",
    "phillips_plot.legend.visible=False \n",
    "\n",
    "# # Save layout.\n",
    "# output_file(\"phillips_layout_02.html\")\n",
    "# save(phillips_layout_02)"
   ]
  },
  {
   "cell_type": "markdown",
   "id": "f6a5ca3b-10e1-4a4b-987e-54ebb57a94c0",
   "metadata": {
    "jp-MarkdownHeadingCollapsed": true
   },
   "source": [
    "## Phillips - 1986-2000"
   ]
  },
  {
   "cell_type": "code",
   "execution_count": null,
   "id": "96683a69-80c3-4abc-a8be-e63307f4726a",
   "metadata": {},
   "outputs": [],
   "source": [
    "# Limit year.\n",
    "df_phillips_3 = df_phillips[(df_phillips['Date'] >= '1986-01-01') & (df_phillips['Date'] < '2000-01-01')]"
   ]
  },
  {
   "cell_type": "markdown",
   "id": "a7b5c72f-e361-457a-9dcb-f4c095a7b427",
   "metadata": {
    "jp-MarkdownHeadingCollapsed": true
   },
   "source": [
    "### Matplotlib"
   ]
  },
  {
   "cell_type": "code",
   "execution_count": null,
   "id": "dd1a3469-b61e-4d3a-bb0b-ed399a43590c",
   "metadata": {},
   "outputs": [],
   "source": [
    "# Plot.\n",
    "plt.scatter(df_phillips_3.index, df_phillips_3['inflation_rate'], s=10)\n",
    "plt.xlim(int(min(df_phillips_3.index)), 20)\n",
    "plt.ylim(0, 20) \n",
    "plt.yticks(range(0, 11, 10))\n",
    "plt.yticks(range(0, 11, 10))\n",
    "plt.xlabel('Inflation Rate (%)', fontsize=10, color='black')\n",
    "plt.ylabel('Unemployment Rate (%)', fontsize=10, color='black')\n",
    "plt.show()"
   ]
  },
  {
   "cell_type": "markdown",
   "id": "e3f8972d-a910-4e8e-9345-ec8274b0abeb",
   "metadata": {},
   "source": [
    "### Bokeh"
   ]
  },
  {
   "cell_type": "code",
   "execution_count": null,
   "id": "bfd1cf05-e416-4121-8a1e-730a38b9fc6e",
   "metadata": {},
   "outputs": [],
   "source": [
    "# Plot setup.\n",
    "phillips_plot = figure(\n",
    "    height=400,\n",
    "    width=400,\n",
    "    title=\"Phillips Curve – 1986-2000\",\n",
    "    x_axis_label='Unemployment Rate (%)',\n",
    "    y_axis_label='Inflation Rate (%)',\n",
    "    y_axis_type=\"linear\",\n",
    "    tools=\"\",\n",
    ")\n",
    "\n",
    "# Data source.\n",
    "phillips_source = ColumnDataSource(data={'x': df_phillips_3.index, 'y': df_phillips_3['inflation_rate']})\n",
    "\n",
    "# Make it square.\n",
    "phillips_plot.x_range = Range1d(3.5, 20)\n",
    "phillips_plot.y_range = Range1d(3.5, 20)\n",
    "\n",
    "# Line plot.\n",
    "phillips_line = phillips_plot.circle('x', 'y', source=phillips_source, size=1, legend_label='Actual')\n",
    "\n",
    "# Build layout.\n",
    "phillips_layout_03 = column(\n",
    "    phillips_plot\n",
    ")\n",
    "\n",
    "# Hide legend.\n",
    "phillips_plot.legend.visible=False \n",
    "\n",
    "# Save layout.\n",
    "# output_file(\"phillips_layout_03.html\")\n",
    "# save(phillips_layout_03)"
   ]
  },
  {
   "cell_type": "markdown",
   "id": "bfce1295-dca5-4ac1-9204-723f70fa1cc9",
   "metadata": {
    "jp-MarkdownHeadingCollapsed": true
   },
   "source": [
    "## Phillips - 1996-2013"
   ]
  },
  {
   "cell_type": "code",
   "execution_count": null,
   "id": "7e278aa2-ab79-43b4-b0fd-ba1f7f788c91",
   "metadata": {},
   "outputs": [],
   "source": [
    "# Limit year.\n",
    "df_phillips_4 = df_phillips[(df_phillips['Date'] >= '1996-01-01') & (df_phillips['Date'] < '2013-01-01')]"
   ]
  },
  {
   "cell_type": "markdown",
   "id": "5c655ac0-550d-413c-a2eb-55219174287f",
   "metadata": {
    "jp-MarkdownHeadingCollapsed": true
   },
   "source": [
    "### Matplotlib"
   ]
  },
  {
   "cell_type": "code",
   "execution_count": null,
   "id": "0d8c7fc8-8cf8-4b0b-adb0-aa24e016d776",
   "metadata": {},
   "outputs": [],
   "source": [
    "# Limit year.\n",
    "df_phillips_4 = df_phillips[(df_phillips['Date'] >= '1996-01-01') & (df_phillips['Date'] < '2013-01-01')]\n",
    "\n",
    "# Plot.\n",
    "plt.scatter(df_phillips.index, df_phillips['inflation_rate'], s=10)\n",
    "plt.xlim(int(min(df_phillips.index)), 20)\n",
    "plt.ylim(0, 20) \n",
    "plt.yticks(range(0, 11, 10))\n",
    "plt.yticks(range(0, 11, 10))\n",
    "plt.xlabel('Inflation Rate (%)', fontsize=10, color='black')\n",
    "plt.ylabel('Unemployment Rate (%)', fontsize=10, color='black')\n",
    "plt.show()"
   ]
  },
  {
   "cell_type": "markdown",
   "id": "01781154-c968-4ac6-b397-28a95183c673",
   "metadata": {},
   "source": [
    "### Phillips plot"
   ]
  },
  {
   "cell_type": "code",
   "execution_count": null,
   "id": "40905b08-1d2a-4f45-b5bd-cbc64d46f936",
   "metadata": {},
   "outputs": [],
   "source": [
    "# Plot setup.\n",
    "phillips_plot = figure(\n",
    "    height=400,\n",
    "    width=400,\n",
    "    title=\"Phillips Curve – 1996-2013\",\n",
    "    x_axis_label='Unemployment Rate (%)',\n",
    "    y_axis_label='Inflation Rate (%)',\n",
    "    y_axis_type=\"linear\",\n",
    "    tools=\"\",\n",
    ")\n",
    "\n",
    "# Data source.\n",
    "phillips_source = ColumnDataSource(data={'x': df_phillips_4.index, 'y': df_phillips_4['inflation_rate']})\n",
    "\n",
    "# Make it square.\n",
    "phillips_plot.x_range = Range1d(3.5, 20)\n",
    "phillips_plot.y_range = Range1d(3.5, 20)\n",
    "\n",
    "# Line plot.\n",
    "phillips_line = phillips_plot.circle('x', 'y', source=phillips_source, size=1, legend_label='Actual')\n",
    "\n",
    "# Build layout.\n",
    "phillips_layout_04 = column(\n",
    "    phillips_plot\n",
    ")\n",
    "\n",
    "# Hide legend.\n",
    "phillips_plot.legend.visible=False \n",
    "\n",
    "# Save layout.\n",
    "# output_file(\"phillips_layout_04.html\")\n",
    "# save(phillips_layout)"
   ]
  },
  {
   "cell_type": "markdown",
   "id": "6f22b5cf-c4e8-4362-8b21-0e96d27f633c",
   "metadata": {},
   "source": [
    "# Layout"
   ]
  },
  {
   "cell_type": "markdown",
   "id": "2a014afb-daed-475f-8da7-0e6ac7a19420",
   "metadata": {},
   "source": [
    "### Text content"
   ]
  },
  {
   "cell_type": "code",
   "execution_count": null,
   "id": "7cb02742-c54b-4322-a57c-46889573c325",
   "metadata": {},
   "outputs": [],
   "source": [
    "intro_text = Div(\n",
    "    text=\"\"\"\n",
    "        <h1>Phillips Curve?</h1>\n",
    "        <h2>This is the subtitle of the article</h2>\n",
    "        <p>Cum sociis natoque penatibus et magnis dis parturient montes, \n",
    "        nascetur ridiculus mus. Integer posuere erat a ante venenatis \n",
    "        dapibus posuere velit aliquet. Lorem ipsum dolor sit amet, \n",
    "        consectetur adipiscing elit. Aenean lacinia bibendum nulla sed \n",
    "        consectetur. Cras justo odio, dapibus ac facilisis in, egestas eget quam. \n",
    "        Vivamus sagittis lacus vel augue laoreet rutrum faucibus dolor auctor. \n",
    "        Nullam id dolor id nibh ultricies vehicula ut id elit.</p>\n",
    "        \"\"\",\n",
    "    width=740,\n",
    "    stylesheets=[InlineStyleSheet(css=\"p { font-size: 16px; margin: 1em 0; }\")],\n",
    ")"
   ]
  },
  {
   "cell_type": "code",
   "execution_count": null,
   "id": "1b1968d8-c456-49ee-889f-afc233838e6e",
   "metadata": {},
   "outputs": [],
   "source": [
    "body_section_1 = Div(\n",
    "    text=\"\"\"\n",
    "        <h2>When headings were headings.</h2>\n",
    "        <p>Lorem ipsum dolor sit amet, \n",
    "        consectetur adipiscing elit. Aenean lacinia bibendum nulla sed \n",
    "        consectetur. Cras justo odio, dapibus ac facilisis in, egestas eget quam. \n",
    "        Vivamus sagittis lacus vel augue laoreet rutrum faucibus dolor auctor. \n",
    "        Nullam id dolor id nibh ultricies vehicula ut id elit.</p>\n",
    "        <p>Vestibulum id ligula porta felis euismod semper. Donec sed odio dui. \n",
    "        Curabitur blandit tempus porttitor. Donec ullamcorper nulla non metus auctor \n",
    "        fringilla. Nullam quis risus eget urna mollis ornare vel eu leo.</p>\n",
    "        <h2>This is a real heading</h2>\n",
    "        <p>Nullam id dolor id nibh ultricies vehicula ut id elit. Vestibulum id ligula \n",
    "        porta felis euismod semper. Donec sed odio dui. Donec ullamcorper nulla non \n",
    "        metus auctor fringilla. Fusce dapibus, tellus ac cursus commodo, tortor mauris \n",
    "        condimentum nibh, ut fermentum massa justo sit amet risus. Duis mollis, est \n",
    "        non commodo luctus, nisi erat porttitor ligula, eget lacinia odio sem nec \n",
    "        elit.</p>\n",
    "        \"\"\",\n",
    "    width=740,\n",
    "    stylesheets=[InlineStyleSheet(css=\"p { font-size: 16px; margin: 1em 0; }\")],\n",
    ")"
   ]
  },
  {
   "cell_type": "code",
   "execution_count": null,
   "id": "07e4084e-e3f1-4be6-b958-512afdb2f66d",
   "metadata": {},
   "outputs": [],
   "source": [
    "phillips_text_1 = Div(\n",
    "    text=\"\"\"\n",
    "        <h2>Phillips in 1954-1986</h2>\n",
    "        <p>Cum sociis natoque penatibus et magnis dis parturient montes, \n",
    "        nascetur ridiculus mus. Integer posuere erat a ante venenatis \n",
    "        dapibus posuere velit aliquet. Lorem ipsum dolor sit amet, \n",
    "        consectetur adipiscing elit.</p>\n",
    "        <h3>From sensible to sensless?</h3>\n",
    "        <p>Integer posuere erat a ante venenatis dapibus posuere velit aliquet. \n",
    "        Vivamus sagittis lacus vel augue laoreet rutrum faucibus dolor auctor. \n",
    "        Lorem ipsum dolor sit amet, consectetur adipiscing elit. Nulla vitae elit \n",
    "        libero, a pharetra augue. Praesent commodo cursus magna, vel scelerisque \n",
    "        nisl consectetur et. Donec ullamcorper nulla non metus auctor fringilla.</p>\n",
    "        \"\"\",\n",
    "    width=400,\n",
    "    stylesheets=[InlineStyleSheet(css=\"p { font-size: 14px; margin: 1em 0; }\")],\n",
    ")"
   ]
  },
  {
   "cell_type": "code",
   "execution_count": null,
   "id": "b4744b60-e7d4-410c-9840-96be32bef0bd",
   "metadata": {},
   "outputs": [],
   "source": [
    "phillips_text_2 = Div(\n",
    "    text=\"\"\"\n",
    "        <h2>Phillips in 1986-2013</h2>\n",
    "        <p>Sed posuere consectetur est at lobortis. Integer posuere erat a ante \n",
    "        venenatis dapibus posuere velit aliquet. Praesent commodo cursus \n",
    "        magna, vel scelerisque nisl consectetur et. Donec ullamcorper nulla non \n",
    "        metus auctor fringilla. Aenean eu leo quam. Pellentesque ornare sem \n",
    "        lacinia quam venenatis vestibulum. Donec id elit non mi porta gravida at \n",
    "        eget metus.</p>\n",
    "        <h3>A possible repeat of the prior period?</h3>\n",
    "        <p>Aenean lacinia bibendum nulla sed \n",
    "        consectetur. Cras justo odio, dapibus ac facilisis in, egestas eget quam. \n",
    "        Vivamus sagittis lacus vel augue laoreet rutrum faucibus dolor auctor. \n",
    "        Nullam id dolor id nibh ultricies vehicula ut id elit.</p>\n",
    "        \"\"\",\n",
    "    width=400,\n",
    "    stylesheets=[InlineStyleSheet(css=\"p { font-size: 14px; margin: 1em 0; }\")],\n",
    ")"
   ]
  },
  {
   "cell_type": "markdown",
   "id": "808e211f-3fb8-4704-85f0-31a5e61386e8",
   "metadata": {},
   "source": [
    "## Page"
   ]
  },
  {
   "cell_type": "code",
   "execution_count": null,
   "id": "a502e82f-8264-4d02-ba44-c395aafe9e97",
   "metadata": {},
   "outputs": [],
   "source": [
    "cpi_unempl_layout = column(\n",
    "    row(\n",
    "        column(\n",
    "            intro_text,\n",
    "            styles=Styles(\n",
    "                padding='30px 75px',\n",
    "            ),\n",
    "        )\n",
    "    ),\n",
    "    row(\n",
    "        column(\n",
    "            cpi_rate_plot,\n",
    "        ),\n",
    "        column(\n",
    "            cpi_rate_window_size_slider,\n",
    "            cpi_rate_date_range_slider,\n",
    "            styles=Styles(\n",
    "                padding='30px',\n",
    "                margin_top='auto',\n",
    "                margin_bottom='auto',\n",
    "            ),\n",
    "        ),\n",
    "        styles=Styles(\n",
    "            padding='30px',\n",
    "        ),\n",
    "    ),\n",
    "    row(\n",
    "        column(\n",
    "            unemp_plot,\n",
    "        ),\n",
    "        column(\n",
    "            unemp_window_size_slider,\n",
    "            unemp_date_range_slider,\n",
    "            styles=Styles(\n",
    "                padding='30px',\n",
    "                margin_top='auto',\n",
    "                margin_bottom='auto',\n",
    "            ),\n",
    "        ),\n",
    "        styles=Styles(\n",
    "            padding='30px',\n",
    "        ),\n",
    "    ),\n",
    "    row(\n",
    "        column(\n",
    "            body_section_1,\n",
    "            styles=Styles(\n",
    "                margin='30px 0 30px 75px',\n",
    "            )\n",
    "        ),\n",
    "    ),\n",
    "    row(\n",
    "        column(\n",
    "            phillips_layout_01,\n",
    "        ),\n",
    "        column(\n",
    "            phillips_layout_02,\n",
    "        ),\n",
    "        column(\n",
    "            phillips_text_1,\n",
    "            styles=Styles(\n",
    "                padding='30px',\n",
    "            ),\n",
    "        ),\n",
    "        styles=Styles(\n",
    "            padding='30px',\n",
    "        ),\n",
    "    ),\n",
    "    row(\n",
    "        column(\n",
    "            phillips_layout_03,\n",
    "        ),\n",
    "        column(\n",
    "            phillips_layout_04,\n",
    "        ),\n",
    "        column(\n",
    "            phillips_text_2,\n",
    "            styles=Styles(\n",
    "                padding='30px',\n",
    "            ),\n",
    "        ),\n",
    "        styles=Styles(\n",
    "            padding='30px',\n",
    "        ),\n",
    "    ),\n",
    "    styles=Styles(\n",
    "        border_width='1px',\n",
    "        border_style='solid',\n",
    "        border_color='#cccccc',\n",
    "        margin='60px',\n",
    "    ),\n",
    ")\n",
    "\n",
    "# Stretch both.\n",
    "cpi_unempl_gridplot = gridplot([[cpi_unempl_layout]])\n",
    "\n",
    "# Save layout.\n",
    "output_file(\"cpi-rate_v_unempl.html\")\n",
    "save(cpi_unempl_gridplot)"
   ]
  }
 ],
 "metadata": {
  "kernelspec": {
   "display_name": "Python 3 (ipykernel)",
   "language": "python",
   "name": "python3"
  },
  "language_info": {
   "codemirror_mode": {
    "name": "ipython",
    "version": 3
   },
   "file_extension": ".py",
   "mimetype": "text/x-python",
   "name": "python",
   "nbconvert_exporter": "python",
   "pygments_lexer": "ipython3",
   "version": "3.11.7"
  }
 },
 "nbformat": 4,
 "nbformat_minor": 5
}
