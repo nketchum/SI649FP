{
 "cells": [
  {
   "cell_type": "code",
   "execution_count": null,
   "id": "a2d35fb6-c8d3-49eb-b059-c5b2e56384be",
   "metadata": {},
   "outputs": [],
   "source": [
    "import warnings\n",
    "warnings.filterwarnings('ignore')"
   ]
  },
  {
   "cell_type": "code",
   "execution_count": null,
   "id": "64c89179-cb51-4ad2-9e45-2bbea9c808d9",
   "metadata": {},
   "outputs": [],
   "source": [
    "from datetime import date\n",
    "from matplotlib import pyplot as plt\n",
    "import numpy as np\n",
    "import pandas as pd"
   ]
  },
  {
   "cell_type": "code",
   "execution_count": null,
   "id": "74f0e3ac-1033-4b88-8bfb-fd0d3d9f0798",
   "metadata": {},
   "outputs": [],
   "source": [
    "from bokeh.core.enums import SizingMode\n",
    "from bokeh.layouts import layout, column, row, gridplot\n",
    "from bokeh.models import ColumnDataSource, HoverTool, Slider, CustomJS, TextInput, Div, RangeSlider, DateRangeSlider, Select, Styles, Range1d\n",
    "from bokeh.plotting import figure, output_file, save, show"
   ]
  },
  {
   "cell_type": "markdown",
   "id": "a0dea4af-04c3-4178-b98f-0874695917be",
   "metadata": {},
   "source": [
    "## Helpers"
   ]
  },
  {
   "cell_type": "code",
   "execution_count": null,
   "id": "25ca20a9-dc81-411f-a9d9-e1524ba654af",
   "metadata": {},
   "outputs": [],
   "source": [
    "# Index by year and quarter.\n",
    "# Helper function for a couple\n",
    "# of different datasets.\n",
    "def monthToQuarter(qrt):\n",
    "    month = ''\n",
    "    if (qrt == 'Qtr1'):\n",
    "        month = 'Jan'\n",
    "    elif (qrt == 'Qtr2'):\n",
    "        month = 'Apr'\n",
    "    elif (qrt == 'Qtr3'):\n",
    "        month = 'Aug'\n",
    "    elif (qrt == 'Qtr4'):\n",
    "        month = 'Oct'\n",
    "    else:\n",
    "        raise Exception('Cannot convert quarter to month')\n",
    "    return month"
   ]
  },
  {
   "cell_type": "markdown",
   "id": "c3ff103e-4183-41fb-927a-1db2b5742772",
   "metadata": {},
   "source": [
    "## Datasource"
   ]
  },
  {
   "cell_type": "code",
   "execution_count": null,
   "id": "e224740b-e102-4746-8c17-6a07e86ace5f",
   "metadata": {},
   "outputs": [],
   "source": [
    "# Use BLS-issued series ID.\n",
    "CPI_SRC = 'data/CUUR0000AA0.xlsx'\n",
    "UNEMP_SRC = 'data/LNS14000000.xlsx'\n",
    "ECI_SRC = 'data/CIU2020000000000A.xlsx'\n",
    "EMP_SRC = 'data/CES0000000001.xlsx'\n",
    "PROD_SRC = 'data/PRS85006092.xlsx'"
   ]
  },
  {
   "cell_type": "markdown",
   "id": "978edcda-5b2d-499e-ad6c-bb468d6f2035",
   "metadata": {},
   "source": [
    "## Settings"
   ]
  },
  {
   "cell_type": "code",
   "execution_count": null,
   "id": "a1711bf9-8aee-484e-96ab-f87ff9502b8f",
   "metadata": {},
   "outputs": [],
   "source": [
    "LONG_HISTORY_START_YEAR = 1954  # CPI and unemployment data go back to 1954. Base CPI = 1967\n",
    "SHORT_HISTORY_START_YEAR = 2001. # Other data only go back to 2001.\n",
    "END_YEAR = 2024\n",
    "MEDIUM_TERM = '2001-01-01'  # Dotcom bust. Many charts begin here; leave as-is.\n",
    "SHORT_TERM = '2008-01-01'  # Great recession.\n",
    "SHORTER_TERM = '2020-01-01'  # Pandemic."
   ]
  },
  {
   "cell_type": "markdown",
   "id": "9d2423fc-5e69-48b1-98bd-944bcb9afe3d",
   "metadata": {},
   "source": [
    "## CPI Dataset"
   ]
  },
  {
   "cell_type": "code",
   "execution_count": null,
   "id": "009c00c6-1c37-4637-a802-d09750acaffd",
   "metadata": {},
   "outputs": [],
   "source": [
    "df_cpi_orig = pd.read_excel(CPI_SRC, skiprows=list(range(11)))\n",
    "df_cpi_orig.drop(['HALF1', 'HALF2'], inplace=True, axis=1)"
   ]
  },
  {
   "cell_type": "code",
   "execution_count": null,
   "id": "b2c54f5c-3b84-4308-b211-febabf141043",
   "metadata": {},
   "outputs": [],
   "source": [
    "# CPI with 1967 dollars\n",
    "df_cpi_orig = df_cpi_orig[df_cpi_orig['Year'] >= LONG_HISTORY_START_YEAR]\n",
    "\n",
    "# Index by date.\n",
    "df_cpi_melted = df_cpi_orig.melt(id_vars='Year', var_name='Month', value_name='Value')\n",
    "df_cpi_melted['Date'] = df_cpi_melted['Year'].astype(str) + '-' + df_cpi_melted['Month']\n",
    "df_cpi_melted['Date'] = pd.to_datetime(df_cpi_melted['Date'], format='%Y-%b')\n",
    "df_cpi = df_cpi_melted.set_index('Date')\n",
    "df_cpi = df_cpi.sort_index()"
   ]
  },
  {
   "cell_type": "code",
   "execution_count": null,
   "id": "e37fd664-606a-4970-b44d-acd80a7f6bcf",
   "metadata": {},
   "outputs": [],
   "source": [
    "plt.yscale('log')\n",
    "plt.plot(df_cpi.index, df_cpi['Value'])"
   ]
  },
  {
   "cell_type": "code",
   "execution_count": null,
   "id": "cc2ed53a-5f38-45f4-a7bb-4e3539eee1af",
   "metadata": {},
   "outputs": [],
   "source": [
    "plt.yscale('log')\n",
    "plt.plot(df_cpi[df_cpi.index >= MEDIUM_TERM].index, df_cpi[df_cpi.index >= MEDIUM_TERM]['Value']) # Other charts start at 2001."
   ]
  },
  {
   "cell_type": "markdown",
   "id": "687ec0f9-e3b3-4041-b3bf-61756128e1aa",
   "metadata": {},
   "source": [
    "### Bokeh (CPI)"
   ]
  },
  {
   "cell_type": "code",
   "execution_count": null,
   "id": "fbd757c5-7cb6-4cb2-8388-6af0eb31e1a3",
   "metadata": {},
   "outputs": [],
   "source": [
    "cpi_div = Div(\n",
    "    text=\"\"\"\n",
    "        <p>This is some text.</p>\n",
    "        \"\"\",\n",
    "    width=200,\n",
    "    height=30,\n",
    ")"
   ]
  },
  {
   "cell_type": "code",
   "execution_count": null,
   "id": "61c51af9-0542-447f-a29d-ba2ba61fd221",
   "metadata": {},
   "outputs": [],
   "source": [
    "# Plot setup.\n",
    "cpi_plot = figure(\n",
    "    height=400,\n",
    "    width=800,\n",
    "    title=\"CPI\",\n",
    "    x_axis_label='Date',\n",
    "    y_axis_label='1967 dollars (%)',\n",
    "    x_axis_type=\"datetime\",\n",
    "    y_axis_type=\"log\",\n",
    "    tools=\"\",\n",
    ")"
   ]
  },
  {
   "cell_type": "code",
   "execution_count": null,
   "id": "d0ab3dca-bac7-4286-b410-e9b53fed037b",
   "metadata": {},
   "outputs": [],
   "source": [
    "# Date range widget.\n",
    "cpi_date_range_slider = DateRangeSlider(\n",
    "    title=\"Period\",\n",
    "    value=(date(LONG_HISTORY_START_YEAR, 1, 1), date(END_YEAR, 1, 1)), # Hard code for now.\n",
    "    start=date(LONG_HISTORY_START_YEAR, 1, 1),\n",
    "    end=date(END_YEAR, 1, 1),\n",
    "    step=365,\n",
    ")\n",
    "\n",
    "# Bind slider to plot for auto updating.\n",
    "cpi_date_range_slider.js_link('value', cpi_plot.x_range, 'start', attr_selector=0)\n",
    "cpi_date_range_slider.js_link('value', cpi_plot.x_range, 'end', attr_selector=1)"
   ]
  },
  {
   "cell_type": "code",
   "execution_count": null,
   "id": "2c3faf0c-3805-4178-abc4-adf1050cf09e",
   "metadata": {},
   "outputs": [],
   "source": [
    "# Data source.\n",
    "cpi_source = ColumnDataSource(data={'x': df_cpi.index, 'y': df_cpi['Value'], 'smoothed_y': df_cpi['Value']})\n",
    "\n",
    "# Line plot.\n",
    "cpi_line = cpi_plot.line('x', 'y', source=cpi_source, line_width=1, line_alpha=0.6, legend_label='Actual')\n",
    "\n",
    "# Smoothed line plot.\n",
    "cpi_smoothed_line = cpi_plot.line('x', 'smoothed_y', source=cpi_source, line_width=2, color='red', legend_label='Smooth')\n",
    "\n",
    "# Resize viewport widget.\n",
    "cpi_view_size_select = Select(title=\"Sizing mode\", value=\"fixed\", options=list(SizingMode), width=300)\n",
    "cpi_view_size_select.js_link('value', cpi_plot, 'sizing_mode')\n",
    "\n",
    "# Resize window widget.\n",
    "cpi_window_callback = CustomJS(args=dict(source=cpi_source, smoothed_line=cpi_smoothed_line), code=\"\"\"\n",
    "    var data = source.data;\n",
    "    var y = data['y'];\n",
    "    var smoothed_y = data['smoothed_y'];\n",
    "    var window_size = cb_obj.value;\n",
    "    var N = y.length;\n",
    "    \n",
    "    // Simple moving average for smoothing\n",
    "    for (var i = 0; i < N; i++) {\n",
    "        var sum = 0.0;\n",
    "        var count = 0;\n",
    "        for (var j = Math.max(0, i - Math.floor(window_size / 2)); j < Math.min(N, i + Math.ceil(window_size / 2)); j++) {\n",
    "            sum += y[j];\n",
    "            count += 1;\n",
    "        }\n",
    "        smoothed_y[i] = sum / count;\n",
    "    }\n",
    "    \n",
    "    // Update the plot\n",
    "    smoothed_line.glyph.change.emit();\n",
    "\"\"\")\n",
    "cpi_window_size_slider = Slider(start=3, end=100, value=5, step=2, title=\"Average\")\n",
    "cpi_window_size_slider.js_on_change('value', cpi_window_callback)\n",
    "\n",
    "# Line thickness widget.\n",
    "cpi_thickness_slider_line = Slider(title=\"slide input\", value=1.0, start=0.1, end=5.0, step=0.1)\n",
    "cpi_thickness_slider_line_callback = CustomJS(args=dict(line=cpi_line, slider=cpi_thickness_slider_line), code=\"\"\"\n",
    "    line.glyph.line_width = slider.value;\n",
    "\"\"\")\n",
    "cpi_thickness_slider_line.js_on_change('value', cpi_thickness_slider_line_callback)\n",
    "\n",
    "# Smoothed line thickness widget.\n",
    "cpi_thickness_slider_smoothed = Slider(title=\"slide input\", value=1.0, start=0.1, end=5.0, step=0.1)\n",
    "cpi_thickness_slider_smoothed_callback = CustomJS(args=dict(line=cpi_smoothed_line, slider=cpi_thickness_slider_smoothed), code=\"\"\"\n",
    "    line.glyph.line_width = slider.value;\n",
    "\"\"\")\n",
    "cpi_thickness_slider_smoothed.js_on_change('value', cpi_thickness_slider_smoothed_callback)\n",
    "\n",
    "# Build layout.\n",
    "cpi_layout = column(\n",
    "    cpi_window_size_slider,\n",
    "    cpi_date_range_slider,\n",
    "    cpi_view_size_select,\n",
    "    cpi_thickness_slider_line,\n",
    "    cpi_thickness_slider_smoothed,\n",
    "    cpi_plot\n",
    ")\n",
    "# cpi_layout.sizing_mode = \"stretch_both\"\n",
    "\n",
    "# Save layout.\n",
    "# output_file(\"cpi.html\")\n",
    "# save(cpi_layout)"
   ]
  },
  {
   "cell_type": "markdown",
   "id": "80a18146-4b1a-484e-81c8-43781b444d78",
   "metadata": {},
   "source": [
    "<hr>"
   ]
  },
  {
   "cell_type": "markdown",
   "id": "30e1b656-26d3-436c-b325-f4301d52c11e",
   "metadata": {},
   "source": [
    "## Inflation Rate"
   ]
  },
  {
   "cell_type": "markdown",
   "id": "c154764b-1601-4cf3-af08-86a556042e4e",
   "metadata": {},
   "source": [
    "### Bokeh (CPI Rate)"
   ]
  },
  {
   "cell_type": "code",
   "execution_count": null,
   "id": "b702f12f-a11d-4c79-a01a-2b0a63200bc4",
   "metadata": {},
   "outputs": [],
   "source": [
    "df_cpi_rate = df_cpi.copy()"
   ]
  },
  {
   "cell_type": "code",
   "execution_count": null,
   "id": "f6bc7875-5904-42a1-a5a3-c0f3fa4d8c79",
   "metadata": {},
   "outputs": [],
   "source": [
    "df_cpi.head()"
   ]
  },
  {
   "cell_type": "code",
   "execution_count": null,
   "id": "7ab8f283-82be-44bb-952f-d5975295f16b",
   "metadata": {},
   "outputs": [],
   "source": [
    "df_cpi_rate['Rate'] = ((df_cpi_rate['Value'] - df_cpi_rate['Value'].shift(1)) / df_cpi_rate['Value'].shift(1)) * 100\n",
    "df_cpi_rate.loc['1954-01-01', 'Rate'] = df_cpi_rate.loc['1954-02-01', 'Rate'] #Backfille first month"
   ]
  },
  {
   "cell_type": "code",
   "execution_count": null,
   "id": "7a6bb1f9-a3de-4367-b2b9-c7e618b6dcb5",
   "metadata": {},
   "outputs": [],
   "source": [
    "df_cpi_rate.head()"
   ]
  },
  {
   "cell_type": "code",
   "execution_count": null,
   "id": "aff94bb5-dea7-4db8-9448-217005e6c0ad",
   "metadata": {},
   "outputs": [],
   "source": [
    "# Plot setup.\n",
    "cpi_rate_plot = figure(\n",
    "    height=400,\n",
    "    width=800,\n",
    "    title=\"CPI Rate\",\n",
    "    x_axis_label='Date',\n",
    "    y_axis_label='Rate',\n",
    "    x_axis_type=\"datetime\",\n",
    "    y_axis_type=\"linear\",\n",
    "    tools=\"\",\n",
    ")"
   ]
  },
  {
   "cell_type": "code",
   "execution_count": null,
   "id": "38fe98a2-fde4-447d-990c-dd6d4af1c8d7",
   "metadata": {},
   "outputs": [],
   "source": [
    "# Date range widget.\n",
    "cpi_rate_date_range_slider = DateRangeSlider(\n",
    "    title=\"Period\",\n",
    "    value=(date(LONG_HISTORY_START_YEAR, 1, 1), date(END_YEAR, 1, 1)), # Hard code for now.\n",
    "    start=date(LONG_HISTORY_START_YEAR, 1, 1),\n",
    "    end=date(END_YEAR, 1, 1),\n",
    "    step=365,\n",
    ")\n",
    "\n",
    "# Bind slider to plot for auto updating.\n",
    "cpi_rate_date_range_slider.js_link('value', cpi_rate_plot.x_range, 'start', attr_selector=0)\n",
    "cpi_rate_date_range_slider.js_link('value', cpi_rate_plot.x_range, 'end', attr_selector=1)"
   ]
  },
  {
   "cell_type": "code",
   "execution_count": null,
   "id": "7fb7c3d7-ad68-4bf4-87f8-d81f49667a7c",
   "metadata": {},
   "outputs": [],
   "source": [
    "# Data source.\n",
    "cpi_rate_source = ColumnDataSource(data={'x': df_cpi_rate.index, 'y': df_cpi_rate['Rate'], 'smoothed_y': df_cpi_rate['Rate']})\n",
    "\n",
    "# Line plot.\n",
    "cpi_rate_line = cpi_rate_plot.line('x', 'y', source=cpi_rate_source, line_width=1, line_alpha=0.2, legend_label='Actual')\n",
    "\n",
    "# Smoothed line plot.\n",
    "cpi_rate_smoothed_line = cpi_rate_plot.line('x', 'smoothed_y', source=cpi_rate_source, line_width=1.5, color='red', legend_label='Smooth')\n",
    "\n",
    "# Resize viewport widget.\n",
    "cpi_rate_view_size_select = Select(title=\"Sizing mode\", value=\"fixed\", options=list(SizingMode), width=300)\n",
    "cpi_rate_view_size_select.js_link('value', cpi_rate_plot, 'sizing_mode')\n",
    "\n",
    "# Resize window widget.\n",
    "cpi_rate_window_callback = CustomJS(args=dict(source=cpi_rate_source, smoothed_line=cpi_rate_smoothed_line), code=\"\"\"\n",
    "    var data = source.data;\n",
    "    var y = data['y'];\n",
    "    var smoothed_y = data['smoothed_y'];\n",
    "    var window_size = cb_obj.value;\n",
    "    var N = y.length;\n",
    "    \n",
    "    // Simple moving average for smoothing\n",
    "    for (var i = 0; i < N; i++) {\n",
    "        var sum = 0.0;\n",
    "        var count = 0;\n",
    "        for (var j = Math.max(0, i - Math.floor(window_size / 2)); j < Math.min(N, i + Math.ceil(window_size / 2)); j++) {\n",
    "            sum += y[j];\n",
    "            count += 1;\n",
    "        }\n",
    "        smoothed_y[i] = sum / count;\n",
    "    }\n",
    "    \n",
    "    // Update the plot\n",
    "    smoothed_line.glyph.change.emit();\n",
    "\"\"\")\n",
    "cpi_rate_window_size_slider = Slider(start=1, end=100, value=1, step=1, title=\"Average\")\n",
    "cpi_rate_window_size_slider.js_on_change('value', cpi_rate_window_callback)\n",
    "\n",
    "# Line thickness widget.\n",
    "cpi_rate_thickness_slider_line = Slider(title=\"slide input\", value=1.0, start=0.1, end=5.0, step=0.1)\n",
    "cpi_rate_thickness_slider_line_callback = CustomJS(args=dict(line=cpi_rate_line, slider=cpi_rate_thickness_slider_line), code=\"\"\"\n",
    "    line.glyph.line_width = slider.value;\n",
    "\"\"\")\n",
    "cpi_rate_thickness_slider_line.js_on_change('value', cpi_rate_thickness_slider_line_callback)\n",
    "\n",
    "# Smoothed line thickness widget.\n",
    "cpi_rate_thickness_slider_smoothed = Slider(title=\"slide input\", value=1.0, start=0.1, end=5.0, step=0.1)\n",
    "cpi_rate_thickness_slider_smoothed_callback = CustomJS(args=dict(line=cpi_rate_smoothed_line, slider=cpi_rate_thickness_slider_smoothed), code=\"\"\"\n",
    "    line.glyph.line_width = slider.value;\n",
    "\"\"\")\n",
    "cpi_rate_thickness_slider_smoothed.js_on_change('value', cpi_rate_thickness_slider_smoothed_callback)\n",
    "\n",
    "# Build layout.\n",
    "cpi_rate_layout = column(\n",
    "    cpi_rate_window_size_slider,\n",
    "    cpi_rate_date_range_slider,\n",
    "    cpi_rate_view_size_select,\n",
    "    cpi_rate_thickness_slider_line,\n",
    "    cpi_rate_thickness_slider_smoothed,\n",
    "    cpi_rate_plot\n",
    ")\n",
    "# cpi_rate_layout.sizing_mode = \"stretch_both\"\n",
    "\n",
    "# Save layout.\n",
    "# output_file(\"cpi_rate.html\")\n",
    "# save(cpi_rate_layout)"
   ]
  },
  {
   "cell_type": "markdown",
   "id": "98959b61-3a70-46da-90c5-0750c68c0cdb",
   "metadata": {},
   "source": [
    "<hr>"
   ]
  },
  {
   "cell_type": "markdown",
   "id": "666d883d-7644-40d7-82e9-b1ffb372110c",
   "metadata": {},
   "source": [
    "## Unemployment Dataset"
   ]
  },
  {
   "cell_type": "code",
   "execution_count": null,
   "id": "74be2118-4bf0-435f-ab8c-68dead2d0333",
   "metadata": {},
   "outputs": [],
   "source": [
    "df_unemp_orig = pd.read_excel(UNEMP_SRC, skiprows=list(range(11)))"
   ]
  },
  {
   "cell_type": "code",
   "execution_count": null,
   "id": "8798bad1-6ff1-4f62-9435-9dbee5f61926",
   "metadata": {},
   "outputs": [],
   "source": [
    "# Start at CPI with 1967 dollars.\n",
    "df_unemp_orig = df_unemp_orig[df_unemp_orig['Year'] >= LONG_HISTORY_START_YEAR]\n",
    "\n",
    "# Index by date.\n",
    "df_unemp_melted = df_unemp_orig.melt(id_vars='Year', var_name='Month', value_name='Value')\n",
    "df_unemp_melted['Date'] = df_unemp_melted['Year'].astype(str) + '-' + df_unemp_melted['Month']\n",
    "df_unemp_melted['Date'] = pd.to_datetime(df_unemp_melted['Date'], format='%Y-%b')\n",
    "df_unemp = df_unemp_melted.set_index('Date')\n",
    "df_unemp = df_unemp.sort_index()"
   ]
  },
  {
   "cell_type": "code",
   "execution_count": null,
   "id": "fc308154-d254-4be3-a290-39180827f58f",
   "metadata": {},
   "outputs": [],
   "source": [
    "plt.yscale('linear')\n",
    "plt.plot(df_unemp.index, df_unemp['Value'])"
   ]
  },
  {
   "cell_type": "code",
   "execution_count": null,
   "id": "37be7451-092a-4136-85fe-907aa24e2524",
   "metadata": {},
   "outputs": [],
   "source": [
    "plt.yscale('linear')\n",
    "plt.plot(df_unemp[df_unemp.index >= MEDIUM_TERM].index, df_unemp[df_unemp.index >= MEDIUM_TERM]['Value']) # Other charts start at 2001."
   ]
  },
  {
   "cell_type": "markdown",
   "id": "fd6eaf3d-96ca-476d-b4a2-9a90144d7ecb",
   "metadata": {},
   "source": [
    "### Unemployment (Bokeh)"
   ]
  },
  {
   "cell_type": "code",
   "execution_count": null,
   "id": "7d573777-fe36-4cf5-9ccb-a57480a2e837",
   "metadata": {},
   "outputs": [],
   "source": [
    "# Plot setup.\n",
    "unemp_plot = figure(\n",
    "    height=400,\n",
    "    width=800,\n",
    "    title=\"Unemployment\",\n",
    "    x_axis_label='Date',\n",
    "    y_axis_label='Rate',\n",
    "    x_axis_type=\"datetime\",\n",
    "    tools=\"\",\n",
    ")"
   ]
  },
  {
   "cell_type": "code",
   "execution_count": null,
   "id": "855db53e-3d20-4c56-adee-c42727344c97",
   "metadata": {},
   "outputs": [],
   "source": [
    "# Date range widget.\n",
    "unemp_date_range_slider = DateRangeSlider(\n",
    "    title=\"Period\",\n",
    "    value=(date(LONG_HISTORY_START_YEAR, 1, 1), date(END_YEAR, 1, 1)), # Hard code for now.\n",
    "    start=date(LONG_HISTORY_START_YEAR, 1, 1),\n",
    "    end=date(END_YEAR, 1, 1),\n",
    "    step=365,\n",
    ")\n",
    "\n",
    "# Bind slider to plot for auto updating.\n",
    "unemp_date_range_slider.js_link('value', unemp_plot.x_range, 'start', attr_selector=0)\n",
    "unemp_date_range_slider.js_link('value', unemp_plot.x_range, 'end', attr_selector=1)"
   ]
  },
  {
   "cell_type": "code",
   "execution_count": null,
   "id": "5e3a8921-c201-4bbe-80a0-518b6cf5f29d",
   "metadata": {},
   "outputs": [],
   "source": [
    "# Data source.\n",
    "unemp_source = ColumnDataSource(data={'x': df_unemp.index, 'y': df_unemp['Value'], 'smoothed_y': df_unemp['Value']})\n",
    "\n",
    "# Line plot.\n",
    "unemp_line = unemp_plot.line('x', 'y', source=unemp_source, line_width=1, line_alpha=0.2, legend_label='Actual')\n",
    "\n",
    "# Smoothed line plot.\n",
    "unemp_smoothed_line = unemp_plot.line('x', 'smoothed_y', source=unemp_source, line_width=1.5, color='red', legend_label='Smooth')\n",
    "\n",
    "# Resize viewport widget.\n",
    "unemp_view_size_select = Select(title=\"Sizing mode\", value=\"fixed\", options=list(SizingMode), width=300)\n",
    "unemp_view_size_select.js_link('value', unemp_plot, 'sizing_mode')\n",
    "\n",
    "# Resize window widget.\n",
    "unemp_window_callback = CustomJS(args=dict(source=unemp_source, smoothed_line=unemp_smoothed_line), code=\"\"\"\n",
    "    var data = source.data;\n",
    "    var y = data['y'];\n",
    "    var smoothed_y = data['smoothed_y'];\n",
    "    var window_size = cb_obj.value;\n",
    "    var N = y.length;\n",
    "    \n",
    "    // Simple moving average for smoothing\n",
    "    for (var i = 0; i < N; i++) {\n",
    "        var sum = 0.0;\n",
    "        var count = 0;\n",
    "        for (var j = Math.max(0, i - Math.floor(window_size / 2)); j < Math.min(N, i + Math.ceil(window_size / 2)); j++) {\n",
    "            sum += y[j];\n",
    "            count += 1;\n",
    "        }\n",
    "        smoothed_y[i] = sum / count;\n",
    "    }\n",
    "    \n",
    "    // Update the plot\n",
    "    smoothed_line.glyph.change.emit();\n",
    "\"\"\")\n",
    "unemp_window_size_slider = Slider(start=1, end=100, value=1, step=10, title=\"Average\")\n",
    "unemp_window_size_slider.js_on_change('value', unemp_window_callback)\n",
    "\n",
    "# Build layout.\n",
    "unemp_layout = column(\n",
    "    unemp_window_size_slider,\n",
    "    unemp_date_range_slider,\n",
    "    unemp_view_size_select,\n",
    "    unemp_plot\n",
    ")\n",
    "# unemp_layout.sizing_mode = \"stretch_both\"\n",
    "\n",
    "# Save layout.\n",
    "# output_file(\"unemployment.html\")\n",
    "# save(unemp_layout)"
   ]
  },
  {
   "cell_type": "markdown",
   "id": "6a14f3af-6278-4fcc-bc24-b0e822920e54",
   "metadata": {},
   "source": [
    "## Gridplot – CPI vs. Unemployment Rate"
   ]
  },
  {
   "cell_type": "code",
   "execution_count": null,
   "id": "fc7095a5-cffe-4e24-9dcd-2a2ef0a5322e",
   "metadata": {},
   "outputs": [],
   "source": [
    "# from bokeh.layouts import gridplot\n",
    "\n",
    "# # Vertical layout.\n",
    "# column_layout = column(\n",
    "#     cpi_window_size_slider,\n",
    "#     cpi_date_range_slider,\n",
    "#     cpi_view_size_select,\n",
    "#     unemp_window_size_slider,\n",
    "#     unemp_date_range_slider,\n",
    "#     unemp_view_size_select,\n",
    "#     cpi_plot,\n",
    "#     unemp_plot,\n",
    "# )\n",
    "\n",
    "# # Stretch both.\n",
    "# cpi_grid = gridplot([[column_layout]], sizing_mode='stretch_both')\n",
    "\n",
    "# # Save layout.\n",
    "# output_file(\"cpi_v_unempl.html\")\n",
    "# save(cpi_grid)"
   ]
  },
  {
   "cell_type": "markdown",
   "id": "098050ff-261d-4138-b77c-82b5b22fa563",
   "metadata": {},
   "source": [
    "## Gridplot – CPI Rate vs. Unemployment Rate"
   ]
  },
  {
   "cell_type": "code",
   "execution_count": null,
   "id": "43dcd1ae-eee7-4527-acfa-de89e2b87103",
   "metadata": {},
   "outputs": [],
   "source": [
    "layout_styles = Styles(\n",
    "    border_width='1px',\n",
    "    border_style='solid',\n",
    "    border_color='#cccccc',\n",
    "    margin='60px',\n",
    ")\n",
    "\n",
    "row_styles = Styles(\n",
    "    padding='30px',\n",
    ")\n",
    "\n",
    "widget_styles = Styles(\n",
    "    padding='30px',\n",
    "    margin_top='auto',\n",
    "    margin_bottom='auto',\n",
    ")\n",
    "\n",
    "# Vertically stack both visualizations and\n",
    "# place their respective widgets to the right.\n",
    "viz_layout = column(\n",
    "    row(\n",
    "        column(\n",
    "            cpi_rate_plot,\n",
    "        ),\n",
    "        column(\n",
    "            cpi_rate_window_size_slider,\n",
    "            cpi_rate_date_range_slider,\n",
    "            # cpi_rate_view_size_select,\n",
    "            styles=widget_styles,\n",
    "        ),\n",
    "        styles=row_styles,\n",
    "    ),\n",
    "    row(\n",
    "        column(\n",
    "            unemp_plot,\n",
    "        ),\n",
    "        column(\n",
    "            unemp_window_size_slider,\n",
    "            unemp_date_range_slider,\n",
    "            # unemp_view_size_select,\n",
    "            styles=widget_styles,\n",
    "        ),\n",
    "        styles=row_styles,\n",
    "    ),\n",
    "    # css_classes=['foo'],\n",
    "    styles=layout_styles,\n",
    ")\n",
    "\n",
    "\n",
    "\n",
    "# Stretch both.\n",
    "cpi_rate_grid = gridplot([[viz_layout]])\n",
    "\n",
    "# Save layout.\n",
    "output_file(\"cpi-rate_v_unempl.html\")\n",
    "save(cpi_rate_grid)"
   ]
  },
  {
   "cell_type": "markdown",
   "id": "07e1291b-225c-4cfd-93d5-b357fc81bf14",
   "metadata": {},
   "source": [
    "### CPI + Unemployment"
   ]
  },
  {
   "cell_type": "code",
   "execution_count": null,
   "id": "cda6d702-7602-41d3-b228-ff81e3378707",
   "metadata": {},
   "outputs": [],
   "source": [
    "# # Plot setup.\n",
    "# super_plot = figure(\n",
    "#     height=800,\n",
    "#     width=600,\n",
    "#     title=\"Superplot\",\n",
    "#     x_axis_label='X axis',\n",
    "#     y_axis_label='Y axis',\n",
    "#     x_axis_type=\"datetime\",\n",
    "#     tools=\"\",\n",
    "# )\n",
    "\n",
    "# # Date range widget.\n",
    "# super_date_range_slider = DateRangeSlider(\n",
    "#     title=\"Adjust x-axis range\",\n",
    "#     value=(date(LONG_HISTORY_START_YEAR, 1, 1), date(END_YEAR, 1, 1)), # Hard code for now.\n",
    "#     start=date(LONG_HISTORY_START_YEAR, 1, 1),\n",
    "#     end=date(END_YEAR, 1, 1),\n",
    "#     step=365,\n",
    "# )\n",
    "# # Bind slider to plot for auto updating.\n",
    "# super_date_range_slider.js_link('value', super_plot.x_range, 'start', attr_selector=0)\n",
    "# super_date_range_slider.js_link('value', super_plot.x_range, 'end', attr_selector=1)\n",
    "\n",
    "# # CPI data source.\n",
    "# cpi_source = ColumnDataSource(data={'x': df_cpi.index, 'y': df_cpi['Value'], 'smoothed_y': df_cpi['Value']})\n",
    "# cpi_line = super_plot.line('x', 'y', source=cpi_source, line_width=1, line_alpha=0.6, legend_label='Actual')\n",
    "# cpi_smoothed_line = super_plot.line('x', 'smoothed_y', source=cpi_source, line_width=2, color='red', legend_label='Smooth')\n",
    "\n",
    "# # Unemp data source.\n",
    "# unemp_source = ColumnDataSource(data={'x': df_unemp.index, 'y': df_unemp['Value'], 'smoothed_y': df_unemp['Value']})\n",
    "# unemp_line = super_plot.line('x', 'y', source=unemp_source, line_width=1, line_alpha=0.6, legend_label='Actual')\n",
    "# unemp_smoothed_line = super_plot.line('x', 'smoothed_y', source=unemp_source, line_width=2, color='red', legend_label='Smooth')\n",
    "\n",
    "# # Resize viewport widget.\n",
    "# super_view_size_select = Select(title=\"Sizing mode\", value=\"fixed\", options=list(SizingMode), width=300)\n",
    "# super_view_size_select.js_link('value', super_plot, 'sizing_mode')\n",
    "\n",
    "# # CPI resize window widget.\n",
    "# super_cpi_window_callback = CustomJS(args=dict(source=cpi_source, smoothed_line=cpi_smoothed_line), code=\"\"\"\n",
    "#     var data = source.data;\n",
    "#     var y = data['y'];\n",
    "#     var smoothed_y = data['smoothed_y'];\n",
    "#     var window_size = cb_obj.value;\n",
    "#     var N = y.length;\n",
    "    \n",
    "#     // Simple moving average for smoothing\n",
    "#     for (var i = 0; i < N; i++) {\n",
    "#         var sum = 0.0;\n",
    "#         var count = 0;\n",
    "#         for (var j = Math.max(0, i - Math.floor(window_size / 2)); j < Math.min(N, i + Math.ceil(window_size / 2)); j++) {\n",
    "#             sum += y[j];\n",
    "#             count += 1;\n",
    "#         }\n",
    "#         smoothed_y[i] = sum / count;\n",
    "#     }\n",
    "    \n",
    "#     // Update the plot\n",
    "#     smoothed_line.glyph.change.emit();\n",
    "# \"\"\")\n",
    "# super_cpi_window_size_slider = Slider(start=3, end=100, value=5, step=2, title=\"Window Size\")\n",
    "# super_cpi_window_size_slider.js_on_change('value', super_cpi_window_callback)\n",
    "\n",
    "# # Unemp resize window widget.\n",
    "# super_unemp_window_callback = CustomJS(args=dict(source=unemp_source, smoothed_line=unemp_smoothed_line), code=\"\"\"\n",
    "#     var data = source.data;\n",
    "#     var y = data['y'];\n",
    "#     var smoothed_y = data['smoothed_y'];\n",
    "#     var window_size = cb_obj.value;\n",
    "#     var N = y.length;\n",
    "    \n",
    "#     // Simple moving average for smoothing\n",
    "#     for (var i = 0; i < N; i++) {\n",
    "#         var sum = 0.0;\n",
    "#         var count = 0;\n",
    "#         for (var j = Math.max(0, i - Math.floor(window_size / 2)); j < Math.min(N, i + Math.ceil(window_size / 2)); j++) {\n",
    "#             sum += y[j];\n",
    "#             count += 1;\n",
    "#         }\n",
    "#         smoothed_y[i] = sum / count;\n",
    "#     }\n",
    "    \n",
    "#     // Update the plot\n",
    "#     smoothed_line.glyph.change.emit();\n",
    "# \"\"\")\n",
    "# super_unemp_window_size_slider = Slider(start=3, end=100, value=5, step=2, title=\"Window Size\")\n",
    "# super_unemp_window_size_slider.js_on_change('value', super_unemp_window_callback)\n",
    "\n",
    "# # Build layout.\n",
    "# super_layout = column(\n",
    "#     super_cpi_window_size_slider,\n",
    "#     super_unemp_window_size_slider,\n",
    "#     super_date_range_slider,\n",
    "#     super_view_size_select,\n",
    "#     super_plot\n",
    "# )\n",
    "\n",
    "# super_layout.sizing_mode = \"stretch_both\"\n",
    "\n",
    "# output_file(\"superchart.html\")\n",
    "# save(super_layout)"
   ]
  },
  {
   "cell_type": "markdown",
   "id": "1a63e613-e92a-4fe6-b237-64625b6557fd",
   "metadata": {},
   "source": [
    "## Employment Cost Index"
   ]
  },
  {
   "cell_type": "code",
   "execution_count": null,
   "id": "218eec32-1255-46e2-a854-3d4ced941db1",
   "metadata": {},
   "outputs": [],
   "source": [
    "df_eci_orig = pd.read_excel(ECI_SRC, skiprows=list(range(15)))"
   ]
  },
  {
   "cell_type": "code",
   "execution_count": null,
   "id": "94bc3e3f-aa5f-460d-a075-3631d522f9bc",
   "metadata": {},
   "outputs": [],
   "source": [
    "# Insert month from biz quarter.\n",
    "df_eci_orig['Month'] = df_eci_orig['Period'].apply(monthToQuarter)\n",
    "\n",
    "# Make date index\n",
    "df_eci_orig['Date'] = df_eci_orig.apply(lambda row: f\"{row['Year']}-{row['Month']}\", axis=1)\n",
    "df_eci_orig['Date'] = pd.to_datetime(df_eci_orig['Date'], format='%Y-%b')\n",
    "df_eci = df_eci_orig.set_index('Date')\n",
    "df_eci = df_eci.sort_index()\n",
    "df_eci.drop(['Standard Error', 'Month', 'Period', 'Year'], axis=1, inplace=True)"
   ]
  },
  {
   "cell_type": "code",
   "execution_count": null,
   "id": "d4459fd7-baec-4bc8-8e12-53bb5d6bd5ad",
   "metadata": {},
   "outputs": [],
   "source": [
    "plt.yscale('linear')\n",
    "plt.plot(df_eci.index, df_eci['Estimate Value'])"
   ]
  },
  {
   "cell_type": "markdown",
   "id": "1df4425a-4cbe-4f95-ae61-3f25a56f189b",
   "metadata": {},
   "source": [
    "## Employment Hours"
   ]
  },
  {
   "cell_type": "code",
   "execution_count": null,
   "id": "664472aa-389e-4b60-8428-f1527a0137b6",
   "metadata": {},
   "outputs": [],
   "source": [
    "df_emp_orig = pd.read_excel(EMP_SRC, skiprows=list(range(12)))"
   ]
  },
  {
   "cell_type": "code",
   "execution_count": null,
   "id": "a8fd9ced-44bb-445a-8b7c-d52f85d1be74",
   "metadata": {},
   "outputs": [],
   "source": [
    "# Start at CPI with 1967 dollars.\n",
    "df_emp_orig = df_emp_orig[df_emp_orig['Year'] >= LONG_HISTORY_START_YEAR]\n",
    "\n",
    "# Index by date.\n",
    "df_emp_melted = df_emp_orig.melt(id_vars='Year', var_name='Month', value_name='Value')\n",
    "df_emp_melted['Date'] = df_emp_melted['Year'].astype(str) + '-' + df_emp_melted['Month']\n",
    "df_emp_melted['Date'] = pd.to_datetime(df_emp_melted['Date'], format='%Y-%b')\n",
    "df_emp = df_emp_melted.set_index('Date')\n",
    "df_emp = df_emp.sort_index()\n",
    "df_emp.drop(['Year', 'Month'], axis=1, inplace=True)"
   ]
  },
  {
   "cell_type": "code",
   "execution_count": null,
   "id": "07299e86-e982-4217-8a1f-08dcde6c8719",
   "metadata": {},
   "outputs": [],
   "source": [
    "plt.yscale('linear')\n",
    "plt.plot(df_emp.index, df_emp['Value'])"
   ]
  },
  {
   "cell_type": "code",
   "execution_count": null,
   "id": "52fdeebe-6f7b-41a7-b89b-0c95cef69ec1",
   "metadata": {},
   "outputs": [],
   "source": [
    "plt.yscale('linear')\n",
    "plt.plot(df_emp[df_emp.index >= MEDIUM_TERM].index, df_emp[df_emp.index >= MEDIUM_TERM]['Value'])"
   ]
  },
  {
   "cell_type": "markdown",
   "id": "0272c18c-b3ec-4b16-bdea-ae6f21ee4ec5",
   "metadata": {},
   "source": [
    "## Productivity"
   ]
  },
  {
   "cell_type": "code",
   "execution_count": null,
   "id": "86318a2d-e40a-4f99-a1fe-eda733321a6a",
   "metadata": {},
   "outputs": [],
   "source": [
    "df_prod_orig = pd.read_excel(PROD_SRC, skiprows=list(range(10)))"
   ]
  },
  {
   "cell_type": "code",
   "execution_count": null,
   "id": "7e83f0c7-dba7-4888-9401-8c3179671425",
   "metadata": {},
   "outputs": [],
   "source": [
    "# Start at CPI at 1967 dollars.\n",
    "df_prod_orig = df_prod_orig[df_prod_orig['Year'] >= LONG_HISTORY_START_YEAR]\n",
    "\n",
    "# Index by date.\n",
    "df_prod_melted = df_prod_orig.melt(id_vars='Year', var_name='Quarter', value_name='Value')\n",
    "df_prod_melted['Month'] = df_prod_melted['Quarter'].apply(monthToQuarter)\n",
    "df_prod_melted['Date'] = df_prod_melted['Year'].astype(str) + '-' + df_prod_melted['Month']\n",
    "df_prod_melted['Date'] = pd.to_datetime(df_prod_melted['Date'], format='%Y-%b')\n",
    "df_prod = df_prod_melted.set_index('Date')\n",
    "df_prod = df_prod.sort_index()\n",
    "df_prod.drop(['Year', 'Quarter', 'Month'], axis=1, inplace=True)"
   ]
  },
  {
   "cell_type": "code",
   "execution_count": null,
   "id": "b171a756-87b7-46e7-b540-611f0c089996",
   "metadata": {},
   "outputs": [],
   "source": [
    "plt.yscale('linear')\n",
    "plt.plot(df_prod.index, df_prod['Value'])"
   ]
  },
  {
   "cell_type": "code",
   "execution_count": null,
   "id": "ef13c463-1b46-4dae-b5c3-2872ccdf43ff",
   "metadata": {},
   "outputs": [],
   "source": [
    "plt.yscale('linear')\n",
    "plt.plot(df_prod[df_prod.index >= MEDIUM_TERM].index, df_prod[df_prod.index >= MEDIUM_TERM]['Value'])"
   ]
  },
  {
   "cell_type": "markdown",
   "id": "6f0fd6a2-92ab-464b-be19-87e32131da8c",
   "metadata": {},
   "source": [
    "# Phillips Plot"
   ]
  },
  {
   "cell_type": "code",
   "execution_count": null,
   "id": "58882998-63c9-4ebc-9fb4-90ddfa34c446",
   "metadata": {},
   "outputs": [],
   "source": [
    "df_phillips = pd.DataFrame()\n",
    "\n",
    "df_cpi_period = df_cpi_rate.copy()\n",
    "df_unemp_period = df_unemp.copy()\n",
    "\n",
    "# Limit year.\n",
    "df_cpi_period = df_cpi_period[df_cpi_period.index < '1970-01-01']\n",
    "df_unemp_period = df_unemp_period[df_unemp_period.index < '1970-01-01']\n",
    "\n",
    "# Skip first record b/c nan.\n",
    "df_phillips['inflation_rate'] = df_cpi_period['Rate'] * 10\n",
    "df_phillips['unemployment_rate'] = df_unemp_period['Value']\n",
    "\n",
    "df_phillips.dropna(inplace=True)\n",
    "df_phillips.set_index('unemployment_rate', inplace=True)\n",
    "\n",
    "# Plot\n",
    "plt.scatter(df_phillips.index, df_phillips['inflation_rate'], s=10)\n",
    "plt.xlim(int(min(df_phillips.index)), 20)\n",
    "plt.ylim(0, 20) \n",
    "plt.yticks(range(0, 11, 10))\n",
    "plt.yticks(range(0, 11, 10))\n",
    "plt.xlabel('Inflation Rate (%)', fontsize=10, color='black')\n",
    "plt.ylabel('Unemployment Rate (%)', fontsize=10, color='black')\n",
    "plt.show()"
   ]
  },
  {
   "cell_type": "code",
   "execution_count": null,
   "id": "66941bb7-247a-4024-a41b-0d40912c6edc",
   "metadata": {},
   "outputs": [],
   "source": [
    "df_phillips = pd.DataFrame()\n",
    "\n",
    "df_cpi_period = df_cpi_rate.copy()\n",
    "df_unemp_period = df_unemp.copy()\n",
    "\n",
    "# Limit year.\n",
    "df_cpi_period = df_cpi_period[(df_cpi_period.index >= '1970-01-01') & (df_cpi_period.index < '1986-01-01')]\n",
    "df_unemp_period = df_unemp_period[(df_unemp_period.index >= '1970-01-01') & (df_unemp_period.index < '1986-01-01')]\n",
    "\n",
    "# Skip first record b/c nan.\n",
    "df_phillips['inflation_rate'] = df_cpi_period['Rate'] * 10\n",
    "df_phillips['unemployment_rate'] = df_unemp_period['Value']\n",
    "\n",
    "df_phillips.dropna(inplace=True)\n",
    "df_phillips.set_index('unemployment_rate', inplace=True)\n",
    "\n",
    "# Plot\n",
    "plt.scatter(df_phillips.index, df_phillips['inflation_rate'], s=10)\n",
    "plt.xlim(int(min(df_phillips.index)), 20)\n",
    "plt.ylim(0, 20) \n",
    "plt.yticks(range(0, 11, 10))\n",
    "plt.yticks(range(0, 11, 10))\n",
    "plt.xlabel('Inflation Rate (%)', fontsize=10, color='black')\n",
    "plt.ylabel('Unemployment Rate (%)', fontsize=10, color='black')\n",
    "plt.show()"
   ]
  },
  {
   "cell_type": "markdown",
   "id": "ddb0712a-a57d-4739-a844-ffa289a35d4a",
   "metadata": {},
   "source": [
    "### Phillips Bokeh"
   ]
  },
  {
   "cell_type": "code",
   "execution_count": null,
   "id": "f40e8589-5e14-4437-a170-d6d09879380f",
   "metadata": {},
   "outputs": [],
   "source": [
    "# Plot setup.\n",
    "phillips_plot = figure(\n",
    "    height=400,\n",
    "    width=400,\n",
    "    title=\"Phillips Curve\",\n",
    "    x_axis_label='Unemployment Rate (%)',\n",
    "    y_axis_label='Inflation Rate (%)',\n",
    "    # x_axis_type=\"datetime\",\n",
    "    y_axis_type=\"linear\",\n",
    "    tools=\"\",\n",
    ")\n",
    "\n",
    "# Data source.\n",
    "phillips_source = ColumnDataSource(data={'x': df_phillips.index, 'y': df_phillips['inflation_rate']})\n",
    "\n",
    "# Make it square.\n",
    "phillips_plot.x_range = Range1d(min(df_phillips.index), 20)\n",
    "phillips_plot.y_range = Range1d(min(df_phillips.index), 20)\n",
    "\n",
    "# Line plot.\n",
    "phillips_line = phillips_plot.circle('x', 'y', source=phillips_source, size=1, legend_label='Actual')\n",
    "\n",
    "# Build layout.\n",
    "phillips_layout = column(\n",
    "    phillips_plot\n",
    ")\n",
    "\n",
    "# Save layout.\n",
    "output_file(\"phillips_1954_1970.html\")\n",
    "save(phillips_layout)"
   ]
  },
  {
   "cell_type": "markdown",
   "id": "a7b5c72f-e361-457a-9dcb-f4c095a7b427",
   "metadata": {},
   "source": [
    "### Between 1986 and 2000"
   ]
  },
  {
   "cell_type": "code",
   "execution_count": null,
   "id": "dd1a3469-b61e-4d3a-bb0b-ed399a43590c",
   "metadata": {},
   "outputs": [],
   "source": [
    "df_phillips = pd.DataFrame()\n",
    "\n",
    "df_cpi_period = df_cpi_rate.copy()\n",
    "df_unemp_period = df_unemp.copy()\n",
    "\n",
    "# Limit year.\n",
    "df_cpi_period = df_cpi_period[(df_cpi_period.index >= '1986-01-01') & (df_cpi_period.index < '2000-01-01')]\n",
    "df_unemp_period = df_unemp_period[(df_unemp_period.index >= '1986-01-01') & (df_unemp_period.index < '2000-01-01')]\n",
    "\n",
    "# Skip first record b/c nan.\n",
    "df_phillips['inflation_rate'] = df_cpi_period['Rate'] * 10\n",
    "df_phillips['unemployment_rate'] = df_unemp_period['Value']\n",
    "\n",
    "df_phillips.dropna(inplace=True)\n",
    "df_phillips.set_index('unemployment_rate', inplace=True)\n",
    "\n",
    "# Plot.\n",
    "plt.scatter(df_phillips.index, df_phillips['inflation_rate'], s=10)\n",
    "plt.xlim(int(min(df_phillips.index)), 20)\n",
    "plt.ylim(0, 20) \n",
    "plt.yticks(range(0, 11, 10))\n",
    "plt.yticks(range(0, 11, 10))\n",
    "plt.xlabel('Inflation Rate (%)', fontsize=10, color='black')\n",
    "plt.ylabel('Unemployment Rate (%)', fontsize=10, color='black')\n",
    "plt.show()"
   ]
  },
  {
   "cell_type": "code",
   "execution_count": null,
   "id": "0d8c7fc8-8cf8-4b0b-adb0-aa24e016d776",
   "metadata": {},
   "outputs": [],
   "source": [
    "df_phillips = pd.DataFrame()\n",
    "\n",
    "df_cpi_period = df_cpi_rate.copy()\n",
    "df_unemp_period = df_unemp.copy()\n",
    "\n",
    "# Limit year.\n",
    "df_cpi_period = df_cpi_period[(df_cpi_period.index >= '1996-01-01') & (df_cpi_period.index < '2013-01-01')]\n",
    "df_unemp_period = df_unemp_period[(df_unemp_period.index >= '1996-01-01') & (df_unemp_period.index < '2013-01-01')]\n",
    "\n",
    "# Skip first record b/c nan.\n",
    "df_phillips['inflation_rate'] = df_cpi_period['Rate'] * 10\n",
    "df_phillips['unemployment_rate'] = df_unemp_period['Value']\n",
    "\n",
    "df_phillips.dropna(inplace=True)\n",
    "df_phillips.set_index('unemployment_rate', inplace=True)\n",
    "\n",
    "# Plot.\n",
    "plt.scatter(df_phillips.index, df_phillips['inflation_rate'], s=10)\n",
    "plt.xlim(int(min(df_phillips.index)), 20)\n",
    "plt.ylim(0, 20) \n",
    "plt.yticks(range(0, 11, 10))\n",
    "plt.yticks(range(0, 11, 10))\n",
    "plt.xlabel('Inflation Rate (%)', fontsize=10, color='black')\n",
    "plt.ylabel('Unemployment Rate (%)', fontsize=10, color='black')\n",
    "plt.show()"
   ]
  },
  {
   "cell_type": "markdown",
   "id": "a4b073d0-2932-48f1-8099-023a87881555",
   "metadata": {},
   "source": [
    "# Dual Axes Experiments"
   ]
  },
  {
   "cell_type": "code",
   "execution_count": null,
   "id": "255c4594-3e7b-486a-a32f-ee2367249b32",
   "metadata": {},
   "outputs": [],
   "source": [
    "from bokeh.models import LogAxis, LinearAxis, Range1d, WheelZoomTool, ZoomInTool, ZoomOutTool"
   ]
  },
  {
   "cell_type": "code",
   "execution_count": null,
   "id": "e97652e2-5e78-420e-aff2-d4c66807f7a5",
   "metadata": {},
   "outputs": [],
   "source": [
    "# df_cpi.head()"
   ]
  },
  {
   "cell_type": "code",
   "execution_count": null,
   "id": "f0f19c0d-282e-4093-9c2c-8fe32e4ff216",
   "metadata": {},
   "outputs": [],
   "source": [
    "x1 = df_cpi.index\n",
    "y1 = df_cpi['Value']\n",
    "\n",
    "x2 = df_unemp.index\n",
    "y2 = df_unemp['Value']\n",
    "\n",
    "p = figure(\n",
    "    # x_range=(min(y1), max(y1)),\n",
    "    # y_range=(min(x1), max(x1)),\n",
    "    tools=\"\"\n",
    ")\n",
    "\n",
    "# p.extra_x_ranges['cpi'] = Range1d(min(x1), max(x1))\n",
    "p.extra_y_ranges['cpi'] = Range1d(min(y1), max(y1))\n",
    "ax1 = LogAxis(\n",
    "    axis_label=\"Price Level\",\n",
    "    # x_range_name=\"cpi\",\n",
    "    y_range_name=\"cpi\",\n",
    ")\n",
    "p.add_layout(ax1, 'left')\n",
    "\n",
    "blue_circles = p.line(\n",
    "    x1,\n",
    "    y1,\n",
    "    color=\"blue\",\n",
    "    line_width=1,\n",
    "    # x_range_name=\"cpi\",\n",
    "    # y_range_name=\"cpi\",\n",
    ")\n",
    "\n",
    "# p.axis.axis_label = \"light blue circles 3\"\n",
    "# p.axis.axis_label_text_color = 'blue'\n",
    "\n",
    "p.extra_x_ranges['unemp'] = Range1d(min(x2), max(x2))\n",
    "p.extra_y_ranges['unemp'] = Range1d(min(y2)+10, max(y2)+10)\n",
    "\n",
    "red_circles = p.line(\n",
    "    x2,\n",
    "    y2,\n",
    "    color='red',\n",
    "    # x_range_name=\"unemp\",\n",
    "    # y_range_name=\"unemp\",\n",
    "    line_width=1,\n",
    ")\n",
    "\n",
    "ax2 = LinearAxis(\n",
    "    axis_label=\"Unemployment1\",\n",
    "    x_range_name=\"unemp\",\n",
    "    y_range_name=\"unemp\",\n",
    ")\n",
    "ax2.axis_label_text_color = 'red'\n",
    "p.add_layout(ax2, 'left')\n",
    "\n",
    "# ax3 = LinearAxis(\n",
    "#     axis_label=\"Unemployment2\",\n",
    "#     x_range_name=\"unemp\",\n",
    "#     y_range_name=\"unemp\",\n",
    "# )\n",
    "# ax3.axis_label_text_color = 'red'\n",
    "# p.add_layout(ax3, 'below')\n",
    "\n",
    "\n",
    "# select = Select(title=\"Zoom together:\", options=[\"none\", \"cross\", \"all\"], value=wheel_zoom.zoom_together)\n",
    "# select.js_on_change(\"value\", CustomJS(\n",
    "#     args=dict(select=select, wheel_zoom=wheel_zoom),\n",
    "#     code=\"\"\"\\\n",
    "# export default ({select, wheel_zoom}) => {\n",
    "#   wheel_zoom.zoom_together = select.value\n",
    "# }\n",
    "# \"\"\",\n",
    "# ))\n",
    "# show(column(select, p))\n",
    "\n",
    "show(p)"
   ]
  },
  {
   "cell_type": "code",
   "execution_count": null,
   "id": "5b4b09c4-6f71-4f15-98b6-d000565d7e45",
   "metadata": {},
   "outputs": [],
   "source": []
  },
  {
   "cell_type": "code",
   "execution_count": null,
   "id": "830c8234-65a4-40dd-b8e5-d76259ec4bbc",
   "metadata": {},
   "outputs": [],
   "source": []
  }
 ],
 "metadata": {
  "kernelspec": {
   "display_name": "Python 3 (ipykernel)",
   "language": "python",
   "name": "python3"
  },
  "language_info": {
   "codemirror_mode": {
    "name": "ipython",
    "version": 3
   },
   "file_extension": ".py",
   "mimetype": "text/x-python",
   "name": "python",
   "nbconvert_exporter": "python",
   "pygments_lexer": "ipython3",
   "version": "3.11.7"
  }
 },
 "nbformat": 4,
 "nbformat_minor": 5
}
