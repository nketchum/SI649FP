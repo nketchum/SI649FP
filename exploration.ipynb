{
 "cells": [
  {
   "cell_type": "code",
   "execution_count": null,
   "id": "a2d35fb6-c8d3-49eb-b059-c5b2e56384be",
   "metadata": {},
   "outputs": [],
   "source": [
    "import warnings\n",
    "warnings.filterwarnings('ignore')"
   ]
  },
  {
   "cell_type": "code",
   "execution_count": null,
   "id": "64c89179-cb51-4ad2-9e45-2bbea9c808d9",
   "metadata": {},
   "outputs": [],
   "source": [
    "from datetime import date\n",
    "from matplotlib import pyplot as plt\n",
    "import numpy as np\n",
    "import pandas as pd"
   ]
  },
  {
   "cell_type": "code",
   "execution_count": null,
   "id": "74f0e3ac-1033-4b88-8bfb-fd0d3d9f0798",
   "metadata": {},
   "outputs": [],
   "source": [
    "from bokeh.core.enums import SizingMode\n",
    "from bokeh.layouts import layout, column, row\n",
    "from bokeh.models import ColumnDataSource, HoverTool, Slider, CustomJS, TextInput, Div, RangeSlider, DateRangeSlider, Select\n",
    "from bokeh.plotting import figure, output_file, save, show"
   ]
  },
  {
   "cell_type": "markdown",
   "id": "a0dea4af-04c3-4178-b98f-0874695917be",
   "metadata": {},
   "source": [
    "## Helpers"
   ]
  },
  {
   "cell_type": "code",
   "execution_count": null,
   "id": "25ca20a9-dc81-411f-a9d9-e1524ba654af",
   "metadata": {},
   "outputs": [],
   "source": [
    "# Index by year and quarter.\n",
    "# Helper function for a couple\n",
    "# of different datasets.\n",
    "def monthToQuarter(qrt):\n",
    "    month = ''\n",
    "    if (qrt == 'Qtr1'):\n",
    "        month = 'Jan'\n",
    "    elif (qrt == 'Qtr2'):\n",
    "        month = 'Apr'\n",
    "    elif (qrt == 'Qtr3'):\n",
    "        month = 'Aug'\n",
    "    elif (qrt == 'Qtr4'):\n",
    "        month = 'Oct'\n",
    "    else:\n",
    "        raise Exception('Cannot convert quarter to month')\n",
    "    return month"
   ]
  },
  {
   "cell_type": "markdown",
   "id": "c3ff103e-4183-41fb-927a-1db2b5742772",
   "metadata": {},
   "source": [
    "## Datasource"
   ]
  },
  {
   "cell_type": "code",
   "execution_count": null,
   "id": "e224740b-e102-4746-8c17-6a07e86ace5f",
   "metadata": {},
   "outputs": [],
   "source": [
    "# Use BLS-issued series ID.\n",
    "CPI_SRC = 'data/CUUR0000AA0.xlsx'\n",
    "UNEMP_SRC = 'data/LNS14000000.xlsx'\n",
    "ECI_SRC = 'data/CIU2020000000000A.xlsx'\n",
    "EMP_SRC = 'data/CES0000000001.xlsx'\n",
    "PROD_SRC = 'data/PRS85006092.xlsx'"
   ]
  },
  {
   "cell_type": "markdown",
   "id": "978edcda-5b2d-499e-ad6c-bb468d6f2035",
   "metadata": {},
   "source": [
    "## Settings"
   ]
  },
  {
   "cell_type": "code",
   "execution_count": null,
   "id": "a1711bf9-8aee-484e-96ab-f87ff9502b8f",
   "metadata": {},
   "outputs": [],
   "source": [
    "MEDIUM_TERM = '2001-01-01'  # Dotcom bust. Many charts begin here; leave as-is.\n",
    "SHORT_TERM = '2008-01-01'  # Great recession.\n",
    "SHORTER_TERM = '2020-01-01'  # Pandemic."
   ]
  },
  {
   "cell_type": "markdown",
   "id": "9d2423fc-5e69-48b1-98bd-944bcb9afe3d",
   "metadata": {},
   "source": [
    "## CPI Dataset"
   ]
  },
  {
   "cell_type": "code",
   "execution_count": null,
   "id": "009c00c6-1c37-4637-a802-d09750acaffd",
   "metadata": {},
   "outputs": [],
   "source": [
    "df_cpi_orig = pd.read_excel(CPI_SRC, skiprows=list(range(11)))\n",
    "df_cpi_orig.drop(['HALF1', 'HALF2'], inplace=True, axis=1)"
   ]
  },
  {
   "cell_type": "code",
   "execution_count": null,
   "id": "b2c54f5c-3b84-4308-b211-febabf141043",
   "metadata": {},
   "outputs": [],
   "source": [
    "# Start at CPI=1967\n",
    "df_cpi_orig = df_cpi_orig[df_cpi_orig['Year'] >= 1967]\n",
    "\n",
    "# Index by date.\n",
    "df_cpi_melted = df_cpi_orig.melt(id_vars='Year', var_name='Month', value_name='Value')\n",
    "df_cpi_melted['Date'] = df_cpi_melted['Year'].astype(str) + '-' + df_cpi_melted['Month']\n",
    "df_cpi_melted['Date'] = pd.to_datetime(df_cpi_melted['Date'], format='%Y-%b')\n",
    "df_cpi = df_cpi_melted.set_index('Date')\n",
    "df_cpi = df_cpi.sort_index()"
   ]
  },
  {
   "cell_type": "code",
   "execution_count": null,
   "id": "e37fd664-606a-4970-b44d-acd80a7f6bcf",
   "metadata": {},
   "outputs": [],
   "source": [
    "plt.yscale('log')\n",
    "plt.plot(df_cpi.index, df_cpi['Value'])"
   ]
  },
  {
   "cell_type": "code",
   "execution_count": null,
   "id": "cc2ed53a-5f38-45f4-a7bb-4e3539eee1af",
   "metadata": {},
   "outputs": [],
   "source": [
    "plt.yscale('log')\n",
    "plt.plot(df_cpi[df_cpi.index >= MEDIUM_TERM].index, df_cpi[df_cpi.index >= MEDIUM_TERM]['Value']) # Other charts start at 2001."
   ]
  },
  {
   "cell_type": "markdown",
   "id": "687ec0f9-e3b3-4041-b3bf-61756128e1aa",
   "metadata": {},
   "source": [
    "### Bokeh (CPI)"
   ]
  },
  {
   "cell_type": "code",
   "execution_count": null,
   "id": "fbd757c5-7cb6-4cb2-8388-6af0eb31e1a3",
   "metadata": {},
   "outputs": [],
   "source": [
    "cpi_div = Div(\n",
    "    text=\"\"\"\n",
    "        <p>This is some text.</p>\n",
    "        \"\"\",\n",
    "    width=200,\n",
    "    height=30,\n",
    ")"
   ]
  },
  {
   "cell_type": "code",
   "execution_count": null,
   "id": "61c51af9-0542-447f-a29d-ba2ba61fd221",
   "metadata": {},
   "outputs": [],
   "source": [
    "# Plot setup.\n",
    "cpi_plot = figure(\n",
    "    height=400,\n",
    "    width=800,\n",
    "    title=\"CPI\",\n",
    "    x_axis_label='Date',\n",
    "    y_axis_label='1967 dollars (%)',\n",
    "    x_axis_type=\"datetime\",\n",
    "    y_axis_type=\"log\",\n",
    "    tools=\"\",\n",
    ")"
   ]
  },
  {
   "cell_type": "code",
   "execution_count": null,
   "id": "d0ab3dca-bac7-4286-b410-e9b53fed037b",
   "metadata": {},
   "outputs": [],
   "source": [
    "# Date range widget.\n",
    "cpi_date_range_slider = DateRangeSlider(\n",
    "    title=\"Adjust x-axis range\",\n",
    "    value=(date(1967, 1, 1), date(2024, 1, 1)), # Hard code for now.\n",
    "    start=date(1967, 1, 1),\n",
    "    end=date(2024, 1, 1),\n",
    "    step=365,\n",
    ")\n",
    "\n",
    "# Bind slider to plot for auto updating.\n",
    "cpi_date_range_slider.js_link('value', cpi_plot.x_range, 'start', attr_selector=0)\n",
    "cpi_date_range_slider.js_link('value', cpi_plot.x_range, 'end', attr_selector=1)"
   ]
  },
  {
   "cell_type": "code",
   "execution_count": null,
   "id": "2c3faf0c-3805-4178-abc4-adf1050cf09e",
   "metadata": {},
   "outputs": [],
   "source": [
    "# Data source.\n",
    "cpi_source = ColumnDataSource(data={'x': df_cpi.index, 'y': df_cpi['Value'], 'smoothed_y': df_cpi['Value']})\n",
    "\n",
    "# Line plot.\n",
    "cpi_line = cpi_plot.line('x', 'y', source=cpi_source, line_width=1, line_alpha=0.6, legend_label='Actual')\n",
    "\n",
    "# Smoothed line plot.\n",
    "cpi_smoothed_line = cpi_plot.line('x', 'smoothed_y', source=cpi_source, line_width=2, color='red', legend_label='Smooth')\n",
    "\n",
    "# Resize viewport widget.\n",
    "cpi_view_size_select = Select(title=\"Sizing mode\", value=\"fixed\", options=list(SizingMode), width=300)\n",
    "cpi_view_size_select.js_link('value', cpi_plot, 'sizing_mode')\n",
    "\n",
    "# Resize window widget.\n",
    "cpi_window_callback = CustomJS(args=dict(source=cpi_source, smoothed_line=cpi_smoothed_line), code=\"\"\"\n",
    "    var data = source.data;\n",
    "    var y = data['y'];\n",
    "    var smoothed_y = data['smoothed_y'];\n",
    "    var window_size = cb_obj.value;\n",
    "    var N = y.length;\n",
    "    \n",
    "    // Simple moving average for smoothing\n",
    "    for (var i = 0; i < N; i++) {\n",
    "        var sum = 0.0;\n",
    "        var count = 0;\n",
    "        for (var j = Math.max(0, i - Math.floor(window_size / 2)); j < Math.min(N, i + Math.ceil(window_size / 2)); j++) {\n",
    "            sum += y[j];\n",
    "            count += 1;\n",
    "        }\n",
    "        smoothed_y[i] = sum / count;\n",
    "    }\n",
    "    \n",
    "    // Update the plot\n",
    "    smoothed_line.glyph.change.emit();\n",
    "\"\"\")\n",
    "cpi_window_size_slider = Slider(start=3, end=100, value=5, step=2, title=\"Window Size\")\n",
    "cpi_window_size_slider.js_on_change('value', cpi_window_callback)\n",
    "\n",
    "# Line thickness widget.\n",
    "cpi_thickness_slider_line = Slider(title=\"slide input\", value=1.0, start=0.1, end=5.0, step=0.1)\n",
    "cpi_thickness_slider_line_callback = CustomJS(args=dict(line=cpi_line, slider=cpi_thickness_slider_line), code=\"\"\"\n",
    "    line.glyph.line_width = slider.value;\n",
    "\"\"\")\n",
    "cpi_thickness_slider_line.js_on_change('value', cpi_thickness_slider_line_callback)\n",
    "\n",
    "# Smoothed line thickness widget.\n",
    "cpi_thickness_slider_smoothed = Slider(title=\"slide input\", value=1.0, start=0.1, end=5.0, step=0.1)\n",
    "cpi_thickness_slider_smoothed_callback = CustomJS(args=dict(line=cpi_smoothed_line, slider=cpi_thickness_slider_smoothed), code=\"\"\"\n",
    "    line.glyph.line_width = slider.value;\n",
    "\"\"\")\n",
    "cpi_thickness_slider_smoothed.js_on_change('value', cpi_thickness_slider_smoothed_callback)\n",
    "\n",
    "# Build layout.\n",
    "cpi_layout = column(\n",
    "    cpi_window_size_slider,\n",
    "    cpi_date_range_slider,\n",
    "    cpi_view_size_select,\n",
    "    cpi_thickness_slider_line,\n",
    "    cpi_thickness_slider_smoothed,\n",
    "    cpi_plot\n",
    ")\n",
    "# cpi_layout.sizing_mode = \"stretch_both\"\n",
    "\n",
    "# Save layout.\n",
    "# output_file(\"cpi.html\")\n",
    "# save(cpi_layout)"
   ]
  },
  {
   "cell_type": "markdown",
   "id": "98959b61-3a70-46da-90c5-0750c68c0cdb",
   "metadata": {},
   "source": [
    "<hr>"
   ]
  },
  {
   "cell_type": "markdown",
   "id": "666d883d-7644-40d7-82e9-b1ffb372110c",
   "metadata": {},
   "source": [
    "## Unemployment Dataset"
   ]
  },
  {
   "cell_type": "code",
   "execution_count": null,
   "id": "74be2118-4bf0-435f-ab8c-68dead2d0333",
   "metadata": {},
   "outputs": [],
   "source": [
    "df_unemp_orig = pd.read_excel(UNEMP_SRC, skiprows=list(range(11)))"
   ]
  },
  {
   "cell_type": "code",
   "execution_count": null,
   "id": "8798bad1-6ff1-4f62-9435-9dbee5f61926",
   "metadata": {},
   "outputs": [],
   "source": [
    "# Start at CPI=1967\n",
    "df_unemp_orig = df_unemp_orig[df_unemp_orig['Year'] >= 1967]\n",
    "\n",
    "# Index by date.\n",
    "df_unemp_melted = df_unemp_orig.melt(id_vars='Year', var_name='Month', value_name='Value')\n",
    "df_unemp_melted['Date'] = df_unemp_melted['Year'].astype(str) + '-' + df_unemp_melted['Month']\n",
    "df_unemp_melted['Date'] = pd.to_datetime(df_unemp_melted['Date'], format='%Y-%b')\n",
    "df_unemp = df_unemp_melted.set_index('Date')\n",
    "df_unemp = df_unemp.sort_index()"
   ]
  },
  {
   "cell_type": "code",
   "execution_count": null,
   "id": "fc308154-d254-4be3-a290-39180827f58f",
   "metadata": {},
   "outputs": [],
   "source": [
    "plt.yscale('linear')\n",
    "plt.plot(df_unemp.index, df_unemp['Value'])"
   ]
  },
  {
   "cell_type": "code",
   "execution_count": null,
   "id": "37be7451-092a-4136-85fe-907aa24e2524",
   "metadata": {},
   "outputs": [],
   "source": [
    "plt.yscale('linear')\n",
    "plt.plot(df_unemp[df_unemp.index >= MEDIUM_TERM].index, df_unemp[df_unemp.index >= MEDIUM_TERM]['Value']) # Other charts start at 2001."
   ]
  },
  {
   "cell_type": "markdown",
   "id": "fd6eaf3d-96ca-476d-b4a2-9a90144d7ecb",
   "metadata": {},
   "source": [
    "### Unemployment (Bokeh)"
   ]
  },
  {
   "cell_type": "code",
   "execution_count": null,
   "id": "7d573777-fe36-4cf5-9ccb-a57480a2e837",
   "metadata": {},
   "outputs": [],
   "source": [
    "# Plot setup.\n",
    "unemp_plot = figure(\n",
    "    height=400,\n",
    "    width=800,\n",
    "    title=\"CPI\",\n",
    "    x_axis_label='Date',\n",
    "    y_axis_label='1967 dollars (%)',\n",
    "    x_axis_type=\"datetime\",\n",
    "    y_axis_type=\"log\",\n",
    "    tools=\"\",\n",
    ")"
   ]
  },
  {
   "cell_type": "code",
   "execution_count": null,
   "id": "855db53e-3d20-4c56-adee-c42727344c97",
   "metadata": {},
   "outputs": [],
   "source": [
    "# Date range widget.\n",
    "unemp_date_range_slider = DateRangeSlider(\n",
    "    title=\"Adjust x-axis range\",\n",
    "    value=(date(1967, 1, 1), date(2024, 1, 1)), # Hard code for now.\n",
    "    start=date(1967, 1, 1),\n",
    "    end=date(2024, 1, 1),\n",
    "    step=365,\n",
    ")\n",
    "\n",
    "# Bind slider to plot for auto updating.\n",
    "unemp_date_range_slider.js_link('value', unemp_plot.x_range, 'start', attr_selector=0)\n",
    "unemp_date_range_slider.js_link('value', unemp_plot.x_range, 'end', attr_selector=1)"
   ]
  },
  {
   "cell_type": "code",
   "execution_count": null,
   "id": "5e3a8921-c201-4bbe-80a0-518b6cf5f29d",
   "metadata": {},
   "outputs": [],
   "source": [
    "# Data source.\n",
    "unemp_source = ColumnDataSource(data={'x': df_unemp.index, 'y': df_unemp['Value'], 'smoothed_y': df_unemp['Value']})\n",
    "\n",
    "# Line plot.\n",
    "unemp_line = unemp_plot.line('x', 'y', source=unemp_source, line_width=1, line_alpha=0.6, legend_label='Actual')\n",
    "\n",
    "# Smoothed line plot.\n",
    "unemp_smoothed_line = unemp_plot.line('x', 'smoothed_y', source=unemp_source, line_width=2, color='red', legend_label='Smooth')\n",
    "\n",
    "# Resize viewport widget.\n",
    "unemp_view_size_select = Select(title=\"Sizing mode\", value=\"fixed\", options=list(SizingMode), width=300)\n",
    "unemp_view_size_select.js_link('value', unemp_plot, 'sizing_mode')\n",
    "\n",
    "# Resize window widget.\n",
    "unemp_window_callback = CustomJS(args=dict(source=unemp_source, smoothed_line=unemp_smoothed_line), code=\"\"\"\n",
    "    var data = source.data;\n",
    "    var y = data['y'];\n",
    "    var smoothed_y = data['smoothed_y'];\n",
    "    var window_size = cb_obj.value;\n",
    "    var N = y.length;\n",
    "    \n",
    "    // Simple moving average for smoothing\n",
    "    for (var i = 0; i < N; i++) {\n",
    "        var sum = 0.0;\n",
    "        var count = 0;\n",
    "        for (var j = Math.max(0, i - Math.floor(window_size / 2)); j < Math.min(N, i + Math.ceil(window_size / 2)); j++) {\n",
    "            sum += y[j];\n",
    "            count += 1;\n",
    "        }\n",
    "        smoothed_y[i] = sum / count;\n",
    "    }\n",
    "    \n",
    "    // Update the plot\n",
    "    smoothed_line.glyph.change.emit();\n",
    "\"\"\")\n",
    "unemp_window_size_slider = Slider(start=3, end=100, value=5, step=2, title=\"Window Size\")\n",
    "unemp_window_size_slider.js_on_change('value', unemp_window_callback)\n",
    "\n",
    "# Build layout.\n",
    "unemp_layout = column(\n",
    "    unemp_window_size_slider,\n",
    "    unemp_date_range_slider,\n",
    "    unemp_view_size_select,\n",
    "    unemp_plot\n",
    ")\n",
    "# unemp_layout.sizing_mode = \"stretch_both\"\n",
    "\n",
    "# Save layout.\n",
    "# output_file(\"unemployment.html\")\n",
    "# save(unemp_layout)"
   ]
  },
  {
   "cell_type": "markdown",
   "id": "098050ff-261d-4138-b77c-82b5b22fa563",
   "metadata": {},
   "source": [
    "## Gridplot"
   ]
  },
  {
   "cell_type": "code",
   "execution_count": null,
   "id": "43dcd1ae-eee7-4527-acfa-de89e2b87103",
   "metadata": {},
   "outputs": [],
   "source": [
    "from bokeh.layouts import gridplot\n",
    "\n",
    "# Vertical layout.\n",
    "column_layout = column(\n",
    "    cpi_window_size_slider,\n",
    "    cpi_date_range_slider,\n",
    "    cpi_view_size_select,\n",
    "    unemp_window_size_slider,\n",
    "    unemp_date_range_slider,\n",
    "    unemp_view_size_select,\n",
    "    cpi_plot,\n",
    "    unemp_plot,\n",
    ")\n",
    "\n",
    "# Stretch both.\n",
    "grid = gridplot([[column_layout]], sizing_mode='stretch_both')\n",
    "\n",
    "# Save layout.\n",
    "output_file(\"grid.html\")\n",
    "save(grid)"
   ]
  },
  {
   "cell_type": "markdown",
   "id": "07e1291b-225c-4cfd-93d5-b357fc81bf14",
   "metadata": {},
   "source": [
    "### CPI + Unemployment"
   ]
  },
  {
   "cell_type": "code",
   "execution_count": null,
   "id": "cda6d702-7602-41d3-b228-ff81e3378707",
   "metadata": {},
   "outputs": [],
   "source": [
    "# Plot setup.\n",
    "super_plot = figure(\n",
    "    height=800,\n",
    "    width=600,\n",
    "    title=\"Superplot\",\n",
    "    x_axis_label='X axis',\n",
    "    y_axis_label='Y axis',\n",
    "    x_axis_type=\"datetime\",\n",
    "    tools=\"\",\n",
    ")\n",
    "\n",
    "# Date range widget.\n",
    "super_date_range_slider = DateRangeSlider(\n",
    "    title=\"Adjust x-axis range\",\n",
    "    value=(date(1967, 1, 1), date(2024, 1, 1)), # Hard code for now.\n",
    "    start=date(1967, 1, 1),\n",
    "    end=date(2024, 1, 1),\n",
    "    step=365,\n",
    ")\n",
    "# Bind slider to plot for auto updating.\n",
    "super_date_range_slider.js_link('value', super_plot.x_range, 'start', attr_selector=0)\n",
    "super_date_range_slider.js_link('value', super_plot.x_range, 'end', attr_selector=1)\n",
    "\n",
    "# CPI data source.\n",
    "cpi_source = ColumnDataSource(data={'x': df_cpi.index, 'y': df_cpi['Value'], 'smoothed_y': df_cpi['Value']})\n",
    "cpi_line = super_plot.line('x', 'y', source=cpi_source, line_width=1, line_alpha=0.6, legend_label='Actual')\n",
    "cpi_smoothed_line = super_plot.line('x', 'smoothed_y', source=cpi_source, line_width=2, color='red', legend_label='Smooth')\n",
    "\n",
    "# Unemp data source.\n",
    "unemp_source = ColumnDataSource(data={'x': df_unemp.index, 'y': df_unemp['Value'], 'smoothed_y': df_unemp['Value']})\n",
    "unemp_line = super_plot.line('x', 'y', source=unemp_source, line_width=1, line_alpha=0.6, legend_label='Actual')\n",
    "unemp_smoothed_line = super_plot.line('x', 'smoothed_y', source=unemp_source, line_width=2, color='red', legend_label='Smooth')\n",
    "\n",
    "# Resize viewport widget.\n",
    "super_view_size_select = Select(title=\"Sizing mode\", value=\"fixed\", options=list(SizingMode), width=300)\n",
    "super_view_size_select.js_link('value', super_plot, 'sizing_mode')\n",
    "\n",
    "# CPI resize window widget.\n",
    "super_cpi_window_callback = CustomJS(args=dict(source=cpi_source, smoothed_line=cpi_smoothed_line), code=\"\"\"\n",
    "    var data = source.data;\n",
    "    var y = data['y'];\n",
    "    var smoothed_y = data['smoothed_y'];\n",
    "    var window_size = cb_obj.value;\n",
    "    var N = y.length;\n",
    "    \n",
    "    // Simple moving average for smoothing\n",
    "    for (var i = 0; i < N; i++) {\n",
    "        var sum = 0.0;\n",
    "        var count = 0;\n",
    "        for (var j = Math.max(0, i - Math.floor(window_size / 2)); j < Math.min(N, i + Math.ceil(window_size / 2)); j++) {\n",
    "            sum += y[j];\n",
    "            count += 1;\n",
    "        }\n",
    "        smoothed_y[i] = sum / count;\n",
    "    }\n",
    "    \n",
    "    // Update the plot\n",
    "    smoothed_line.glyph.change.emit();\n",
    "\"\"\")\n",
    "super_cpi_window_size_slider = Slider(start=3, end=100, value=5, step=2, title=\"Window Size\")\n",
    "super_cpi_window_size_slider.js_on_change('value', super_cpi_window_callback)\n",
    "\n",
    "# Unemp resize window widget.\n",
    "super_unemp_window_callback = CustomJS(args=dict(source=unemp_source, smoothed_line=unemp_smoothed_line), code=\"\"\"\n",
    "    var data = source.data;\n",
    "    var y = data['y'];\n",
    "    var smoothed_y = data['smoothed_y'];\n",
    "    var window_size = cb_obj.value;\n",
    "    var N = y.length;\n",
    "    \n",
    "    // Simple moving average for smoothing\n",
    "    for (var i = 0; i < N; i++) {\n",
    "        var sum = 0.0;\n",
    "        var count = 0;\n",
    "        for (var j = Math.max(0, i - Math.floor(window_size / 2)); j < Math.min(N, i + Math.ceil(window_size / 2)); j++) {\n",
    "            sum += y[j];\n",
    "            count += 1;\n",
    "        }\n",
    "        smoothed_y[i] = sum / count;\n",
    "    }\n",
    "    \n",
    "    // Update the plot\n",
    "    smoothed_line.glyph.change.emit();\n",
    "\"\"\")\n",
    "super_unemp_window_size_slider = Slider(start=3, end=100, value=5, step=2, title=\"Window Size\")\n",
    "super_unemp_window_size_slider.js_on_change('value', super_unemp_window_callback)\n",
    "\n",
    "# Build layout.\n",
    "super_layout = column(\n",
    "    super_cpi_window_size_slider,\n",
    "    super_unemp_window_size_slider,\n",
    "    super_date_range_slider,\n",
    "    super_view_size_select,\n",
    "    super_plot\n",
    ")\n",
    "\n",
    "super_layout.sizing_mode = \"stretch_both\"\n",
    "\n",
    "output_file(\"super.html\")\n",
    "save(super_layout)"
   ]
  },
  {
   "cell_type": "markdown",
   "id": "1a63e613-e92a-4fe6-b237-64625b6557fd",
   "metadata": {},
   "source": [
    "## Employment Cost Index"
   ]
  },
  {
   "cell_type": "code",
   "execution_count": null,
   "id": "218eec32-1255-46e2-a854-3d4ced941db1",
   "metadata": {},
   "outputs": [],
   "source": [
    "df_eci_orig = pd.read_excel(ECI_SRC, skiprows=list(range(15)))"
   ]
  },
  {
   "cell_type": "code",
   "execution_count": null,
   "id": "94bc3e3f-aa5f-460d-a075-3631d522f9bc",
   "metadata": {},
   "outputs": [],
   "source": [
    "# Insert month from biz quarter.\n",
    "df_eci_orig['Month'] = df_eci_orig['Period'].apply(monthToQuarter)\n",
    "\n",
    "# Make date index\n",
    "df_eci_orig['Date'] = df_eci_orig.apply(lambda row: f\"{row['Year']}-{row['Month']}\", axis=1)\n",
    "df_eci_orig['Date'] = pd.to_datetime(df_eci_orig['Date'], format='%Y-%b')\n",
    "df_eci = df_eci_orig.set_index('Date')\n",
    "df_eci = df_eci.sort_index()\n",
    "df_eci.drop(['Standard Error', 'Month', 'Period', 'Year'], axis=1, inplace=True)"
   ]
  },
  {
   "cell_type": "code",
   "execution_count": null,
   "id": "d4459fd7-baec-4bc8-8e12-53bb5d6bd5ad",
   "metadata": {},
   "outputs": [],
   "source": [
    "plt.yscale('linear')\n",
    "plt.plot(df_eci.index, df_eci['Estimate Value'])"
   ]
  },
  {
   "cell_type": "markdown",
   "id": "1df4425a-4cbe-4f95-ae61-3f25a56f189b",
   "metadata": {},
   "source": [
    "## Employment Hours"
   ]
  },
  {
   "cell_type": "code",
   "execution_count": null,
   "id": "664472aa-389e-4b60-8428-f1527a0137b6",
   "metadata": {},
   "outputs": [],
   "source": [
    "df_emp_orig = pd.read_excel(EMP_SRC, skiprows=list(range(12)))"
   ]
  },
  {
   "cell_type": "code",
   "execution_count": null,
   "id": "a8fd9ced-44bb-445a-8b7c-d52f85d1be74",
   "metadata": {},
   "outputs": [],
   "source": [
    "# Start at CPI=1967\n",
    "df_emp_orig = df_emp_orig[df_emp_orig['Year'] >= 1967]\n",
    "\n",
    "# Index by date.\n",
    "df_emp_melted = df_emp_orig.melt(id_vars='Year', var_name='Month', value_name='Value')\n",
    "df_emp_melted['Date'] = df_emp_melted['Year'].astype(str) + '-' + df_emp_melted['Month']\n",
    "df_emp_melted['Date'] = pd.to_datetime(df_emp_melted['Date'], format='%Y-%b')\n",
    "df_emp = df_emp_melted.set_index('Date')\n",
    "df_emp = df_emp.sort_index()\n",
    "df_emp.drop(['Year', 'Month'], axis=1, inplace=True)"
   ]
  },
  {
   "cell_type": "code",
   "execution_count": null,
   "id": "07299e86-e982-4217-8a1f-08dcde6c8719",
   "metadata": {},
   "outputs": [],
   "source": [
    "plt.yscale('linear')\n",
    "plt.plot(df_emp.index, df_emp['Value'])"
   ]
  },
  {
   "cell_type": "code",
   "execution_count": null,
   "id": "52fdeebe-6f7b-41a7-b89b-0c95cef69ec1",
   "metadata": {},
   "outputs": [],
   "source": [
    "plt.yscale('linear')\n",
    "plt.plot(df_emp[df_emp.index >= MEDIUM_TERM].index, df_emp[df_emp.index >= MEDIUM_TERM]['Value'])"
   ]
  },
  {
   "cell_type": "markdown",
   "id": "0272c18c-b3ec-4b16-bdea-ae6f21ee4ec5",
   "metadata": {},
   "source": [
    "## Productivity"
   ]
  },
  {
   "cell_type": "code",
   "execution_count": null,
   "id": "86318a2d-e40a-4f99-a1fe-eda733321a6a",
   "metadata": {},
   "outputs": [],
   "source": [
    "df_prod_orig = pd.read_excel(PROD_SRC, skiprows=list(range(10)))"
   ]
  },
  {
   "cell_type": "code",
   "execution_count": null,
   "id": "7e83f0c7-dba7-4888-9401-8c3179671425",
   "metadata": {},
   "outputs": [],
   "source": [
    "# Start at CPI=1967\n",
    "df_prod_orig = df_prod_orig[df_prod_orig['Year'] >= 1967]\n",
    "\n",
    "# Index by date.\n",
    "df_prod_melted = df_prod_orig.melt(id_vars='Year', var_name='Quarter', value_name='Value')\n",
    "df_prod_melted['Month'] = df_prod_melted['Quarter'].apply(monthToQuarter)\n",
    "df_prod_melted['Date'] = df_prod_melted['Year'].astype(str) + '-' + df_prod_melted['Month']\n",
    "df_prod_melted['Date'] = pd.to_datetime(df_prod_melted['Date'], format='%Y-%b')\n",
    "df_prod = df_prod_melted.set_index('Date')\n",
    "df_prod = df_prod.sort_index()\n",
    "df_prod.drop(['Year', 'Quarter', 'Month'], axis=1, inplace=True)"
   ]
  },
  {
   "cell_type": "code",
   "execution_count": null,
   "id": "b171a756-87b7-46e7-b540-611f0c089996",
   "metadata": {},
   "outputs": [],
   "source": [
    "plt.yscale('linear')\n",
    "plt.plot(df_prod.index, df_prod['Value'])"
   ]
  },
  {
   "cell_type": "code",
   "execution_count": null,
   "id": "ef13c463-1b46-4dae-b5c3-2872ccdf43ff",
   "metadata": {},
   "outputs": [],
   "source": [
    "plt.yscale('linear')\n",
    "plt.plot(df_prod[df_prod.index >= MEDIUM_TERM].index, df_prod[df_prod.index >= MEDIUM_TERM]['Value'])"
   ]
  }
 ],
 "metadata": {
  "kernelspec": {
   "display_name": "Python 3 (ipykernel)",
   "language": "python",
   "name": "python3"
  },
  "language_info": {
   "codemirror_mode": {
    "name": "ipython",
    "version": 3
   },
   "file_extension": ".py",
   "mimetype": "text/x-python",
   "name": "python",
   "nbconvert_exporter": "python",
   "pygments_lexer": "ipython3",
   "version": "3.11.7"
  }
 },
 "nbformat": 4,
 "nbformat_minor": 5
}
